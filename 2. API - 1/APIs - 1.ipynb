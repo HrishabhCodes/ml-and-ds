{
 "cells": [
  {
   "cell_type": "code",
   "execution_count": 15,
   "id": "51225e44",
   "metadata": {},
   "outputs": [
    {
     "name": "stdout",
     "output_type": "stream",
     "text": [
      "200\n",
      "utf-8\n",
      "https://codingninjas.in/api/v3/courses\n",
      "Mon, 20 Dec 2021 12:09:03 GMT\n",
      "application/json\n",
      "application/json\n"
     ]
    }
   ],
   "source": [
    "## https://codingninjas.in/api/v3/courses\n",
    "## https://api.github.com/events\n",
    "## https://dog.ceo/api/breeds/list/all\n",
    "\n",
    "import requests\n",
    "response = requests.get('https://codingninjas.in/api/v3/courses')\n",
    "print(response.status_code)\n",
    "print(response.encoding)\n",
    "# print(response.text)\n",
    "print(response.url)\n",
    "header_info = response.headers\n",
    "print(header_info['Date'])\n",
    "# print(header_info)\n",
    "print(header_info['content-type'])\n",
    "print(header_info['Content-Type']) ## case insensitive"
   ]
  },
  {
   "cell_type": "markdown",
   "id": "33386a54",
   "metadata": {},
   "source": [
    "#### CONVERSION FROM JSON TO PYTHON:"
   ]
  },
  {
   "cell_type": "code",
   "execution_count": 26,
   "id": "9a9ac158",
   "metadata": {},
   "outputs": [
    {
     "name": "stdout",
     "output_type": "stream",
     "text": [
      "{'Student': 'Hrishabh'}\n",
      "<class 'dict'>\n",
      "Hrishabh\n"
     ]
    }
   ],
   "source": [
    "import json\n",
    "json_data = '{\"Student\" : \"Hrishabh\"}'\n",
    "python_data = json.loads(json_data)\n",
    "print(python_data)\n",
    "print(type(python_data))\n",
    "print(python_data['Student'])"
   ]
  },
  {
   "cell_type": "code",
   "execution_count": 30,
   "id": "64c661a8",
   "metadata": {},
   "outputs": [
    {
     "name": "stdout",
     "output_type": "stream",
     "text": [
      "<class 'int'>\n"
     ]
    }
   ],
   "source": [
    "json_data = '{\"roll_number\" : 101}'\n",
    "python_data = json.loads(json_data)\n",
    "print(python_data['roll_number'])"
   ]
  },
  {
   "cell_type": "code",
   "execution_count": 34,
   "id": "9e4c2cde",
   "metadata": {},
   "outputs": [
    {
     "name": "stdout",
     "output_type": "stream",
     "text": [
      "Hrishabh Jain\n",
      "30\n"
     ]
    }
   ],
   "source": [
    "json_data = '{\"Student\" : {\"name\" : \"Hrishabh Jain\", \"roll_number\" : 30}}'\n",
    "python_data = json.loads(json_data)\n",
    "\n",
    "student_details = python_data['Student']\n",
    "# print(student_details['roll_number'])\n",
    "\n",
    "for key in student_details.keys():\n",
    "    print(student_details[key])"
   ]
  },
  {
   "cell_type": "code",
   "execution_count": 39,
   "id": "c9cb742b",
   "metadata": {},
   "outputs": [
    {
     "name": "stdout",
     "output_type": "stream",
     "text": [
      "<class 'list'>\n",
      "<class 'dict'>\n",
      "['Mango', 'Apple', 'Grapes', 'Papaya']\n",
      "4\n"
     ]
    }
   ],
   "source": [
    "json_data = '{\"Fruits\" : [\"Mango\", \"Apple\", \"Grapes\", \"Papaya\"]}'\n",
    "python_data = json.loads(json_data)\n",
    "\n",
    "print(type(python_data['Fruits'])) ## list\n",
    "print(type(python_data)) ## dictionary\n",
    "print(python_data['Fruits'])\n",
    "print(len(python_data['Fruits']))"
   ]
  },
  {
   "cell_type": "code",
   "execution_count": null,
   "id": "40aa9963",
   "metadata": {},
   "outputs": [],
   "source": []
  },
  {
   "cell_type": "code",
   "execution_count": null,
   "id": "ff400250",
   "metadata": {},
   "outputs": [],
   "source": []
  },
  {
   "cell_type": "code",
   "execution_count": null,
   "id": "2147f2c2",
   "metadata": {},
   "outputs": [],
   "source": []
  },
  {
   "cell_type": "code",
   "execution_count": null,
   "id": "e9d200fe",
   "metadata": {},
   "outputs": [],
   "source": []
  },
  {
   "cell_type": "code",
   "execution_count": null,
   "id": "6e12ae3b",
   "metadata": {},
   "outputs": [],
   "source": []
  },
  {
   "cell_type": "code",
   "execution_count": null,
   "id": "608ec5ae",
   "metadata": {},
   "outputs": [],
   "source": []
  }
 ],
 "metadata": {
  "kernelspec": {
   "display_name": "Python 3 (ipykernel)",
   "language": "python",
   "name": "python3"
  },
  "language_info": {
   "codemirror_mode": {
    "name": "ipython",
    "version": 3
   },
   "file_extension": ".py",
   "mimetype": "text/x-python",
   "name": "python",
   "nbconvert_exporter": "python",
   "pygments_lexer": "ipython3",
   "version": "3.9.7"
  }
 },
 "nbformat": 4,
 "nbformat_minor": 5
}
