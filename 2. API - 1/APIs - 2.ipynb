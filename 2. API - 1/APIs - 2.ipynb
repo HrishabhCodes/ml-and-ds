{
 "cells": [
  {
   "cell_type": "code",
   "execution_count": 7,
   "id": "a0c87b18",
   "metadata": {},
   "outputs": [
    {
     "name": "stdout",
     "output_type": "stream",
     "text": [
      "System Design Course\n",
      "C++ & Data Structures\n",
      "Premium Machine Learning Course\n",
      "Competitive Programmer\n",
      "Premium Android Course\n",
      "Data structures and Algorithms [C++/Java/Python]\n",
      "Machine Learning\n",
      "Premium Web Dev Course\n",
      "Front End (React)\n",
      "Premium Data Science Course\n",
      "Premium Competitive Course\n",
      "Web Dev (Full Stack)\n",
      "Android Developer\n",
      "Java & Data Structures\n",
      "Python & Web Dev (MERN)\n",
      "Grokking the Operating Systems Interview\n",
      "Data Science\n",
      "Interview Preparation\n",
      "C++ & Web Dev (Node.js)\n",
      "Competitive Programming\n",
      "Android (Kotlin)\n",
      "Data Scientist\n",
      "Python & Data Structures\n",
      "Aptitude Preparation\n",
      "Machine Learning\n"
     ]
    }
   ],
   "source": [
    "import requests\n",
    "import json\n",
    "\n",
    "response = requests.get('https://codingninjas.in/api/v3/courses')\n",
    "\n",
    "python_data = json.loads(response.text)\n",
    "\n",
    "data = python_data[\"data\"]\n",
    "courses_data = data[\"courses\"]\n",
    "\n",
    "for course in courses_data:\n",
    "    print(course['title'])"
   ]
  },
  {
   "cell_type": "code",
   "execution_count": 13,
   "id": "ad277bca",
   "metadata": {},
   "outputs": [
    {
     "name": "stdout",
     "output_type": "stream",
     "text": [
      "affenpinscher : 0\n",
      "african : 0\n",
      "airedale : 0\n",
      "akita : 0\n",
      "appenzeller : 0\n",
      "australian : 1\n",
      "basenji : 0\n",
      "beagle : 0\n",
      "bluetick : 0\n",
      "borzoi : 0\n",
      "bouvier : 0\n",
      "boxer : 0\n",
      "brabancon : 0\n",
      "briard : 0\n",
      "buhund : 1\n",
      "bulldog : 3\n",
      "bullterrier : 1\n",
      "cattledog : 1\n",
      "chihuahua : 0\n",
      "chow : 0\n",
      "clumber : 0\n",
      "cockapoo : 0\n",
      "collie : 1\n",
      "coonhound : 0\n",
      "corgi : 1\n",
      "cotondetulear : 0\n",
      "dachshund : 0\n",
      "dalmatian : 0\n",
      "dane : 1\n",
      "deerhound : 1\n",
      "dhole : 0\n",
      "dingo : 0\n",
      "doberman : 0\n",
      "elkhound : 1\n",
      "entlebucher : 0\n",
      "eskimo : 0\n",
      "finnish : 1\n",
      "frise : 1\n",
      "germanshepherd : 0\n",
      "greyhound : 1\n",
      "groenendael : 0\n",
      "havanese : 0\n",
      "hound : 7\n",
      "husky : 0\n",
      "keeshond : 0\n",
      "kelpie : 0\n",
      "komondor : 0\n",
      "kuvasz : 0\n",
      "labradoodle : 0\n",
      "labrador : 0\n",
      "leonberg : 0\n",
      "lhasa : 0\n",
      "malamute : 0\n",
      "malinois : 0\n",
      "maltese : 0\n",
      "mastiff : 3\n",
      "mexicanhairless : 0\n",
      "mix : 0\n",
      "mountain : 2\n",
      "newfoundland : 0\n",
      "otterhound : 0\n",
      "ovcharka : 1\n",
      "papillon : 0\n",
      "pekinese : 0\n",
      "pembroke : 0\n",
      "pinscher : 1\n",
      "pitbull : 0\n",
      "pointer : 2\n",
      "pomeranian : 0\n",
      "poodle : 3\n",
      "pug : 0\n",
      "puggle : 0\n",
      "pyrenees : 0\n",
      "redbone : 0\n",
      "retriever : 4\n",
      "ridgeback : 1\n",
      "rottweiler : 0\n",
      "saluki : 0\n",
      "samoyed : 0\n",
      "schipperke : 0\n",
      "schnauzer : 2\n",
      "setter : 3\n",
      "sheepdog : 2\n",
      "shiba : 0\n",
      "shihtzu : 0\n",
      "spaniel : 7\n",
      "springer : 1\n",
      "stbernard : 0\n",
      "terrier : 23\n",
      "tervuren : 0\n",
      "vizsla : 0\n",
      "waterdog : 1\n",
      "weimaraner : 0\n",
      "whippet : 0\n",
      "wolfhound : 1\n"
     ]
    }
   ],
   "source": [
    "dog_response = requests.get('https://dog.ceo/api/breeds/list/all')\n",
    "\n",
    "python_data = dog_response.json()\n",
    "\n",
    "for key, val in python_data[\"message\"].items():\n",
    "    print(\"{} : {}\".format(key, len(val)))"
   ]
  },
  {
   "cell_type": "code",
   "execution_count": 14,
   "id": "a7621747",
   "metadata": {},
   "outputs": [
    {
     "name": "stdout",
     "output_type": "stream",
     "text": [
      "afghan\n",
      "basset\n",
      "blood\n",
      "english\n",
      "ibizan\n",
      "plott\n",
      "walker\n"
     ]
    }
   ],
   "source": [
    "dog_response = requests.get('https://dog.ceo/api/breeds/list/all')\n",
    "\n",
    "python_data = dog_response.json()\n",
    "\n",
    "for i in python_data[\"message\"]['hound']:\n",
    "    print(i)"
   ]
  },
  {
   "cell_type": "code",
   "execution_count": 16,
   "id": "1fc4700a",
   "metadata": {},
   "outputs": [
    {
     "name": "stdout",
     "output_type": "stream",
     "text": [
      "3\n"
     ]
    }
   ],
   "source": [
    "print(len(python_data[\"message\"]['poodle']))"
   ]
  },
  {
   "cell_type": "code",
   "execution_count": 17,
   "id": "26409fbf",
   "metadata": {},
   "outputs": [
    {
     "name": "stdout",
     "output_type": "stream",
     "text": [
      "System Design Course\n",
      "C++ & Data Structures\n",
      "Premium Machine Learning Course\n",
      "Competitive Programmer\n",
      "Premium Android Course\n",
      "Data structures and Algorithms [C++/Java/Python]\n",
      "Machine Learning\n",
      "Premium Web Dev Course\n",
      "Front End (React)\n",
      "Premium Data Science Course\n",
      "Premium Competitive Course\n",
      "Web Dev (Full Stack)\n",
      "Android Developer\n",
      "Java & Data Structures\n",
      "Python & Web Dev (MERN)\n",
      "Grokking the Operating Systems Interview\n",
      "Data Science\n",
      "Interview Preparation\n",
      "C++ & Web Dev (Node.js)\n",
      "Competitive Programming\n",
      "Android (Kotlin)\n",
      "Data Scientist\n",
      "Python & Data Structures\n",
      "Aptitude Preparation\n",
      "Machine Learning\n"
     ]
    }
   ],
   "source": [
    "import requests\n",
    "import json\n",
    "\n",
    "response = requests.get('https://codingninjas.in/api/v3/courses')\n",
    "\n",
    "python_data = json.loads(response.text)\n",
    "\n",
    "data = python_data[\"data\"]\n",
    "courses_data = data[\"courses\"]\n",
    "\n",
    "for course in courses_data:\n",
    "    if course['available_online'] == True:\n",
    "        print(course['title'])"
   ]
  },
  {
   "cell_type": "code",
   "execution_count": null,
   "id": "e3c64815",
   "metadata": {},
   "outputs": [],
   "source": []
  },
  {
   "cell_type": "code",
   "execution_count": null,
   "id": "6fa34637",
   "metadata": {},
   "outputs": [],
   "source": []
  },
  {
   "cell_type": "code",
   "execution_count": 27,
   "id": "4776017e",
   "metadata": {},
   "outputs": [
    {
     "name": "stdout",
     "output_type": "stream",
     "text": [
      "{'meta': {'name': 'openaq-api', 'license': 'CC BY 4.0d', 'website': 'https://u50g7n0cbj.execute-api.us-east-1.amazonaws.com/', 'page': 1, 'limit': 1, 'found': 3}, 'results': [{'country': 'AE', 'name': 'Abu Dhabi', 'city': 'Abu Dhabi', 'count': 67144963, 'locations': 1}]}\n",
      "\n",
      "https://api.openaq.org/v1/cities?country=ae&limit=1\n"
     ]
    }
   ],
   "source": [
    "# a = requests.get('https://api.openaq.org/v1/cities', params = {\"country\" : \"ae\"})\n",
    "a = requests.get('https://api.openaq.org/v1/cities', params = {\"country\" : \"ae\", \"limit\" : 1})\n",
    "\n",
    "\n",
    "print(a.json())\n",
    "print()\n",
    "print(a.url)"
   ]
  },
  {
   "cell_type": "code",
   "execution_count": 31,
   "id": "e5704533",
   "metadata": {},
   "outputs": [
    {
     "name": "stdout",
     "output_type": "stream",
     "text": [
      "Antwerpen\n",
      "Brabant wallon\n",
      "Brussels-Capital Region\n",
      "Flanders\n",
      "Hainaut\n"
     ]
    }
   ],
   "source": [
    "a = requests.get('https://api.openaq.org/v1/cities', params = {\"country\" : \"be\", \"limit\" : 5})\n",
    "\n",
    "python_data = a.json()\n",
    "\n",
    "allResults = python_data[\"results\"]\n",
    "\n",
    "for i in allResults:\n",
    "    print(i[\"city\"])"
   ]
  },
  {
   "cell_type": "code",
   "execution_count": null,
   "id": "fba73790",
   "metadata": {},
   "outputs": [],
   "source": []
  },
  {
   "cell_type": "code",
   "execution_count": null,
   "id": "8098a72b",
   "metadata": {},
   "outputs": [],
   "source": []
  },
  {
   "cell_type": "code",
   "execution_count": 38,
   "id": "87f4c06d",
   "metadata": {},
   "outputs": [
    {
     "name": "stdout",
     "output_type": "stream",
     "text": [
      "200\n",
      "https://api.nasa.gov/planetary/apod?api_key=DEMO_KEY\n"
     ]
    }
   ],
   "source": [
    "b = requests.get('https://api.nasa.gov/planetary/apod', params = {\"api_key\" : \"DEMO_KEY\"})\n",
    "\n",
    "print(b.status_code)\n",
    "print(b.url)"
   ]
  },
  {
   "cell_type": "code",
   "execution_count": null,
   "id": "7169ea22",
   "metadata": {},
   "outputs": [],
   "source": []
  },
  {
   "cell_type": "code",
   "execution_count": null,
   "id": "1c7c8c57",
   "metadata": {},
   "outputs": [],
   "source": []
  },
  {
   "cell_type": "code",
   "execution_count": null,
   "id": "adc7361f",
   "metadata": {},
   "outputs": [],
   "source": []
  },
  {
   "cell_type": "code",
   "execution_count": null,
   "id": "435049c5",
   "metadata": {},
   "outputs": [],
   "source": []
  },
  {
   "cell_type": "code",
   "execution_count": null,
   "id": "a3aed714",
   "metadata": {},
   "outputs": [],
   "source": []
  },
  {
   "cell_type": "code",
   "execution_count": null,
   "id": "652ce4ac",
   "metadata": {},
   "outputs": [],
   "source": []
  },
  {
   "cell_type": "code",
   "execution_count": null,
   "id": "dc2eff8b",
   "metadata": {},
   "outputs": [],
   "source": []
  },
  {
   "cell_type": "code",
   "execution_count": null,
   "id": "ed4095b9",
   "metadata": {},
   "outputs": [],
   "source": []
  },
  {
   "cell_type": "code",
   "execution_count": null,
   "id": "d75a28d3",
   "metadata": {},
   "outputs": [],
   "source": []
  }
 ],
 "metadata": {
  "kernelspec": {
   "display_name": "Python 3 (ipykernel)",
   "language": "python",
   "name": "python3"
  },
  "language_info": {
   "codemirror_mode": {
    "name": "ipython",
    "version": 3
   },
   "file_extension": ".py",
   "mimetype": "text/x-python",
   "name": "python",
   "nbconvert_exporter": "python",
   "pygments_lexer": "ipython3",
   "version": "3.9.7"
  }
 },
 "nbformat": 4,
 "nbformat_minor": 5
}
