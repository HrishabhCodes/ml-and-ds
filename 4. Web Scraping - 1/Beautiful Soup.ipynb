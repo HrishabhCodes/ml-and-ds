{
 "cells": [
  {
   "cell_type": "code",
   "execution_count": 4,
   "id": "80d57f7f",
   "metadata": {},
   "outputs": [],
   "source": [
    "import requests as req\n",
    "\n",
    "res = req.get('https://mead-node--weather-app.herokuapp.com/')\n",
    "html = res.text"
   ]
  },
  {
   "cell_type": "code",
   "execution_count": 5,
   "id": "7647fc0e",
   "metadata": {},
   "outputs": [],
   "source": [
    "from bs4 import BeautifulSoup"
   ]
  },
  {
   "cell_type": "code",
   "execution_count": 7,
   "id": "20e7cb05",
   "metadata": {},
   "outputs": [
    {
     "data": {
      "text/plain": [
       "<!DOCTYPE html>\n",
       "\n",
       "<html lang=\"en\">\n",
       "<head>\n",
       "<meta charset=\"utf-8\"/>\n",
       "<meta content=\"IE=edge\" http-equiv=\"X-UA-Compatible\"/>\n",
       "<meta content=\"width=device-width, initial-scale=1.0\" name=\"viewport\"/>\n",
       "<link href=\"/img/weather.png\" rel=\"icon\" type=\"image/x-icon\"/>\n",
       "<link href=\"./css/styles.css\" rel=\"stylesheet\">\n",
       "<title>Weather App</title>\n",
       "</link></head>\n",
       "<body>\n",
       "<div class=\"main-cont\">\n",
       "<header>\n",
       "<h1>Weather App</h1>\n",
       "<div>\n",
       "<a href=\"/\" style=\"margin-right: 1rem;\">Weather</a>\n",
       "<a href=\"/about\" style=\"margin-right: 1rem;\">About</a>\n",
       "<a href=\"/help\" style=\"margin-right: 1rem;\">Help</a>\n",
       "</div>\n",
       "</header> <p>Get your weather here!</p>\n",
       "<form action=\"\">\n",
       "<input placeholder=\"Location\" type=\"text\"/>\n",
       "<button>Search</button>\n",
       "</form>\n",
       "<div>\n",
       "<p class=\"location\"></p>\n",
       "<p class=\"forecast\"></p>\n",
       "</div>\n",
       "</div>\n",
       "<footer>\n",
       "<p>Created by Hrishabh Jain</p>\n",
       "</footer> <script src=\"./js/app.js\"></script>\n",
       "</body>\n",
       "</html>"
      ]
     },
     "execution_count": 7,
     "metadata": {},
     "output_type": "execute_result"
    }
   ],
   "source": [
    "data = BeautifulSoup(html, 'html.parser') ## object BeautifulSoup\n",
    "data"
   ]
  },
  {
   "cell_type": "code",
   "execution_count": 9,
   "id": "063df208",
   "metadata": {},
   "outputs": [
    {
     "data": {
      "text/plain": [
       "bs4.BeautifulSoup"
      ]
     },
     "execution_count": 9,
     "metadata": {},
     "output_type": "execute_result"
    }
   ],
   "source": [
    "type(data)"
   ]
  },
  {
   "cell_type": "code",
   "execution_count": 10,
   "id": "668239ae",
   "metadata": {},
   "outputs": [
    {
     "name": "stdout",
     "output_type": "stream",
     "text": [
      "<!DOCTYPE html>\n",
      "<html lang=\"en\">\n",
      " <head>\n",
      "  <meta charset=\"utf-8\"/>\n",
      "  <meta content=\"IE=edge\" http-equiv=\"X-UA-Compatible\"/>\n",
      "  <meta content=\"width=device-width, initial-scale=1.0\" name=\"viewport\"/>\n",
      "  <link href=\"/img/weather.png\" rel=\"icon\" type=\"image/x-icon\"/>\n",
      "  <link href=\"./css/styles.css\" rel=\"stylesheet\">\n",
      "   <title>\n",
      "    Weather App\n",
      "   </title>\n",
      "  </link>\n",
      " </head>\n",
      " <body>\n",
      "  <div class=\"main-cont\">\n",
      "   <header>\n",
      "    <h1>\n",
      "     Weather App\n",
      "    </h1>\n",
      "    <div>\n",
      "     <a href=\"/\" style=\"margin-right: 1rem;\">\n",
      "      Weather\n",
      "     </a>\n",
      "     <a href=\"/about\" style=\"margin-right: 1rem;\">\n",
      "      About\n",
      "     </a>\n",
      "     <a href=\"/help\" style=\"margin-right: 1rem;\">\n",
      "      Help\n",
      "     </a>\n",
      "    </div>\n",
      "   </header>\n",
      "   <p>\n",
      "    Get your weather here!\n",
      "   </p>\n",
      "   <form action=\"\">\n",
      "    <input placeholder=\"Location\" type=\"text\"/>\n",
      "    <button>\n",
      "     Search\n",
      "    </button>\n",
      "   </form>\n",
      "   <div>\n",
      "    <p class=\"location\">\n",
      "    </p>\n",
      "    <p class=\"forecast\">\n",
      "    </p>\n",
      "   </div>\n",
      "  </div>\n",
      "  <footer>\n",
      "   <p>\n",
      "    Created by Hrishabh Jain\n",
      "   </p>\n",
      "  </footer>\n",
      "  <script src=\"./js/app.js\">\n",
      "  </script>\n",
      " </body>\n",
      "</html>\n",
      "\n"
     ]
    }
   ],
   "source": [
    "print(data.prettify())"
   ]
  },
  {
   "cell_type": "markdown",
   "id": "1a2f5260",
   "metadata": {},
   "source": [
    "##### data.tag_name"
   ]
  },
  {
   "cell_type": "code",
   "execution_count": 11,
   "id": "c0e4ff57",
   "metadata": {},
   "outputs": [
    {
     "data": {
      "text/plain": [
       "<title>Weather App</title>"
      ]
     },
     "execution_count": 11,
     "metadata": {},
     "output_type": "execute_result"
    }
   ],
   "source": [
    "data.title"
   ]
  },
  {
   "cell_type": "code",
   "execution_count": 12,
   "id": "f87b9b04",
   "metadata": {},
   "outputs": [
    {
     "data": {
      "text/plain": [
       "<p>Get your weather here!</p>"
      ]
     },
     "execution_count": 12,
     "metadata": {},
     "output_type": "execute_result"
    }
   ],
   "source": [
    "data.p"
   ]
  },
  {
   "cell_type": "code",
   "execution_count": 13,
   "id": "227bf43d",
   "metadata": {},
   "outputs": [
    {
     "data": {
      "text/plain": [
       "<h1>Weather App</h1>"
      ]
     },
     "execution_count": 13,
     "metadata": {},
     "output_type": "execute_result"
    }
   ],
   "source": [
    "data.h1"
   ]
  },
  {
   "cell_type": "code",
   "execution_count": 14,
   "id": "a3fab0df",
   "metadata": {},
   "outputs": [
    {
     "data": {
      "text/plain": [
       "<head>\n",
       "<meta charset=\"utf-8\"/>\n",
       "<meta content=\"IE=edge\" http-equiv=\"X-UA-Compatible\"/>\n",
       "<meta content=\"width=device-width, initial-scale=1.0\" name=\"viewport\"/>\n",
       "<link href=\"/img/weather.png\" rel=\"icon\" type=\"image/x-icon\"/>\n",
       "<link href=\"./css/styles.css\" rel=\"stylesheet\">\n",
       "<title>Weather App</title>\n",
       "</link></head>"
      ]
     },
     "execution_count": 14,
     "metadata": {},
     "output_type": "execute_result"
    }
   ],
   "source": [
    "data.head"
   ]
  },
  {
   "cell_type": "code",
   "execution_count": 16,
   "id": "4299eac8",
   "metadata": {},
   "outputs": [
    {
     "data": {
      "text/plain": [
       "<input placeholder=\"Location\" type=\"text\"/>"
      ]
     },
     "execution_count": 16,
     "metadata": {},
     "output_type": "execute_result"
    }
   ],
   "source": [
    "data.input"
   ]
  },
  {
   "cell_type": "code",
   "execution_count": 18,
   "id": "4627ffb7",
   "metadata": {},
   "outputs": [],
   "source": [
    "data.img ## no error"
   ]
  },
  {
   "cell_type": "code",
   "execution_count": 22,
   "id": "6ac45873",
   "metadata": {},
   "outputs": [
    {
     "name": "stdout",
     "output_type": "stream",
     "text": [
      "title\n",
      "Weather App\n",
      "{}\n"
     ]
    }
   ],
   "source": [
    "print(data.title.name)\n",
    "print(data.title.string)\n",
    "print(data.title.attrs)"
   ]
  },
  {
   "cell_type": "code",
   "execution_count": 25,
   "id": "7e66e5a0",
   "metadata": {},
   "outputs": [
    {
     "name": "stdout",
     "output_type": "stream",
     "text": [
      "{'class': ['main-cont']}\n"
     ]
    }
   ],
   "source": [
    "print(data.div.attrs)"
   ]
  },
  {
   "cell_type": "code",
   "execution_count": 27,
   "id": "d8742c4b",
   "metadata": {},
   "outputs": [
    {
     "name": "stdout",
     "output_type": "stream",
     "text": [
      "{'type': 'text', 'placeholder': 'Location'}\n"
     ]
    }
   ],
   "source": [
    "print(data.input.attrs)"
   ]
  },
  {
   "cell_type": "code",
   "execution_count": 31,
   "id": "89f12a00",
   "metadata": {},
   "outputs": [
    {
     "data": {
      "text/plain": [
       "'text'"
      ]
     },
     "execution_count": 31,
     "metadata": {},
     "output_type": "execute_result"
    }
   ],
   "source": [
    "# data.input['type']\n",
    "\n",
    "data.input.get('type')"
   ]
  },
  {
   "cell_type": "code",
   "execution_count": 30,
   "id": "5723f505",
   "metadata": {},
   "outputs": [
    {
     "data": {
      "text/plain": [
       "'Location'"
      ]
     },
     "execution_count": 30,
     "metadata": {},
     "output_type": "execute_result"
    }
   ],
   "source": [
    "data.input['placeholder']"
   ]
  },
  {
   "cell_type": "code",
   "execution_count": 32,
   "id": "15ba4891",
   "metadata": {},
   "outputs": [
    {
     "ename": "KeyError",
     "evalue": "'class'",
     "output_type": "error",
     "traceback": [
      "\u001b[0;31m---------------------------------------------------------------------------\u001b[0m",
      "\u001b[0;31mKeyError\u001b[0m                                  Traceback (most recent call last)",
      "\u001b[0;32m/var/folders/8x/lnjll14x2yl0_pfk5q7znhhw0000gn/T/ipykernel_83784/2935003622.py\u001b[0m in \u001b[0;36m<module>\u001b[0;34m\u001b[0m\n\u001b[0;32m----> 1\u001b[0;31m \u001b[0mdata\u001b[0m\u001b[0;34m.\u001b[0m\u001b[0minput\u001b[0m\u001b[0;34m[\u001b[0m\u001b[0;34m'class'\u001b[0m\u001b[0;34m]\u001b[0m\u001b[0;34m\u001b[0m\u001b[0;34m\u001b[0m\u001b[0m\n\u001b[0m",
      "\u001b[0;32m~/opt/anaconda3/lib/python3.9/site-packages/bs4/element.py\u001b[0m in \u001b[0;36m__getitem__\u001b[0;34m(self, key)\u001b[0m\n\u001b[1;32m   1484\u001b[0m         \"\"\"tag[key] returns the value of the 'key' attribute for the Tag,\n\u001b[1;32m   1485\u001b[0m         and throws an exception if it's not there.\"\"\"\n\u001b[0;32m-> 1486\u001b[0;31m         \u001b[0;32mreturn\u001b[0m \u001b[0mself\u001b[0m\u001b[0;34m.\u001b[0m\u001b[0mattrs\u001b[0m\u001b[0;34m[\u001b[0m\u001b[0mkey\u001b[0m\u001b[0;34m]\u001b[0m\u001b[0;34m\u001b[0m\u001b[0;34m\u001b[0m\u001b[0m\n\u001b[0m\u001b[1;32m   1487\u001b[0m \u001b[0;34m\u001b[0m\u001b[0m\n\u001b[1;32m   1488\u001b[0m     \u001b[0;32mdef\u001b[0m \u001b[0m__iter__\u001b[0m\u001b[0;34m(\u001b[0m\u001b[0mself\u001b[0m\u001b[0;34m)\u001b[0m\u001b[0;34m:\u001b[0m\u001b[0;34m\u001b[0m\u001b[0;34m\u001b[0m\u001b[0m\n",
      "\u001b[0;31mKeyError\u001b[0m: 'class'"
     ]
    }
   ],
   "source": [
    "data.input['class'] ## throws error"
   ]
  },
  {
   "cell_type": "code",
   "execution_count": 33,
   "id": "742ebfba",
   "metadata": {},
   "outputs": [
    {
     "data": {
      "text/plain": [
       "'\\n\\n\\n\\n\\n\\n\\n\\nWeather App\\n\\n\\n\\n\\nWeather App\\n\\nWeather\\nAbout\\nHelp\\n\\n Get your weather here!\\n\\n\\nSearch\\n\\n\\n\\n\\n\\n\\n\\nCreated by Hrishabh Jain\\n \\n\\n\\n'"
      ]
     },
     "execution_count": 33,
     "metadata": {},
     "output_type": "execute_result"
    }
   ],
   "source": [
    "data.get_text()"
   ]
  },
  {
   "cell_type": "code",
   "execution_count": 34,
   "id": "1e0472e6",
   "metadata": {},
   "outputs": [
    {
     "data": {
      "text/plain": [
       "'Weather App'"
      ]
     },
     "execution_count": 34,
     "metadata": {},
     "output_type": "execute_result"
    }
   ],
   "source": [
    "data.title.get_text()"
   ]
  },
  {
   "cell_type": "code",
   "execution_count": 38,
   "id": "496c009a",
   "metadata": {},
   "outputs": [
    {
     "data": {
      "text/plain": [
       "'Get your weather here!'"
      ]
     },
     "execution_count": 38,
     "metadata": {},
     "output_type": "execute_result"
    }
   ],
   "source": [
    "data.p.get_text()"
   ]
  },
  {
   "cell_type": "code",
   "execution_count": 41,
   "id": "ae8716c1",
   "metadata": {},
   "outputs": [
    {
     "data": {
      "text/plain": [
       "<p>Get your weather here!</p>"
      ]
     },
     "execution_count": 41,
     "metadata": {},
     "output_type": "execute_result"
    }
   ],
   "source": [
    "data.p"
   ]
  },
  {
   "cell_type": "code",
   "execution_count": 43,
   "id": "0ae18788",
   "metadata": {},
   "outputs": [
    {
     "data": {
      "text/plain": [
       "<p>Get your weather here!</p>"
      ]
     },
     "execution_count": 43,
     "metadata": {},
     "output_type": "execute_result"
    }
   ],
   "source": [
    "data.find('p')\n",
    "\n",
    "## working same as data.p ! Returning the first occurrence of the tag"
   ]
  },
  {
   "cell_type": "code",
   "execution_count": 48,
   "id": "994885c1",
   "metadata": {},
   "outputs": [
    {
     "data": {
      "text/plain": [
       "[<p>Get your weather here!</p>,\n",
       " <p class=\"location\"></p>,\n",
       " <p class=\"forecast\"></p>,\n",
       " <p>Created by Hrishabh Jain</p>]"
      ]
     },
     "execution_count": 48,
     "metadata": {},
     "output_type": "execute_result"
    }
   ],
   "source": [
    "data.find_all('p')"
   ]
  },
  {
   "cell_type": "code",
   "execution_count": 51,
   "id": "d991a8be",
   "metadata": {},
   "outputs": [
    {
     "name": "stdout",
     "output_type": "stream",
     "text": [
      "<p>Get your weather here!</p>\n",
      "<p class=\"location\"></p>\n",
      "<p class=\"forecast\"></p>\n",
      "<p>Created by Hrishabh Jain</p>\n"
     ]
    }
   ],
   "source": [
    "li = data.find_all('p')\n",
    "\n",
    "for i in li:\n",
    "    print(i)"
   ]
  },
  {
   "cell_type": "code",
   "execution_count": 57,
   "id": "e5438f18",
   "metadata": {},
   "outputs": [
    {
     "data": {
      "text/plain": [
       "[<a href=\"/\" style=\"margin-right: 1rem;\">Weather</a>,\n",
       " <a href=\"/about\" style=\"margin-right: 1rem;\">About</a>,\n",
       " <a href=\"/help\" style=\"margin-right: 1rem;\">Help</a>,\n",
       " <p>Get your weather here!</p>,\n",
       " <p class=\"location\"></p>,\n",
       " <p class=\"forecast\"></p>,\n",
       " <p>Created by Hrishabh Jain</p>]"
      ]
     },
     "execution_count": 57,
     "metadata": {},
     "output_type": "execute_result"
    }
   ],
   "source": [
    "data.find_all(['p', 'a'])"
   ]
  },
  {
   "cell_type": "code",
   "execution_count": 58,
   "id": "9613b218",
   "metadata": {},
   "outputs": [
    {
     "data": {
      "text/plain": [
       "[<html lang=\"en\">\n",
       " <head>\n",
       " <meta charset=\"utf-8\"/>\n",
       " <meta content=\"IE=edge\" http-equiv=\"X-UA-Compatible\"/>\n",
       " <meta content=\"width=device-width, initial-scale=1.0\" name=\"viewport\"/>\n",
       " <link href=\"/img/weather.png\" rel=\"icon\" type=\"image/x-icon\"/>\n",
       " <link href=\"./css/styles.css\" rel=\"stylesheet\">\n",
       " <title>Weather App</title>\n",
       " </link></head>\n",
       " <body>\n",
       " <div class=\"main-cont\">\n",
       " <header>\n",
       " <h1>Weather App</h1>\n",
       " <div>\n",
       " <a href=\"/\" style=\"margin-right: 1rem;\">Weather</a>\n",
       " <a href=\"/about\" style=\"margin-right: 1rem;\">About</a>\n",
       " <a href=\"/help\" style=\"margin-right: 1rem;\">Help</a>\n",
       " </div>\n",
       " </header> <p>Get your weather here!</p>\n",
       " <form action=\"\">\n",
       " <input placeholder=\"Location\" type=\"text\"/>\n",
       " <button>Search</button>\n",
       " </form>\n",
       " <div>\n",
       " <p class=\"location\"></p>\n",
       " <p class=\"forecast\"></p>\n",
       " </div>\n",
       " </div>\n",
       " <footer>\n",
       " <p>Created by Hrishabh Jain</p>\n",
       " </footer> <script src=\"./js/app.js\"></script>\n",
       " </body>\n",
       " </html>,\n",
       " <head>\n",
       " <meta charset=\"utf-8\"/>\n",
       " <meta content=\"IE=edge\" http-equiv=\"X-UA-Compatible\"/>\n",
       " <meta content=\"width=device-width, initial-scale=1.0\" name=\"viewport\"/>\n",
       " <link href=\"/img/weather.png\" rel=\"icon\" type=\"image/x-icon\"/>\n",
       " <link href=\"./css/styles.css\" rel=\"stylesheet\">\n",
       " <title>Weather App</title>\n",
       " </link></head>,\n",
       " <meta charset=\"utf-8\"/>,\n",
       " <meta content=\"IE=edge\" http-equiv=\"X-UA-Compatible\"/>,\n",
       " <meta content=\"width=device-width, initial-scale=1.0\" name=\"viewport\"/>,\n",
       " <link href=\"/img/weather.png\" rel=\"icon\" type=\"image/x-icon\"/>,\n",
       " <link href=\"./css/styles.css\" rel=\"stylesheet\">\n",
       " <title>Weather App</title>\n",
       " </link>,\n",
       " <title>Weather App</title>,\n",
       " <body>\n",
       " <div class=\"main-cont\">\n",
       " <header>\n",
       " <h1>Weather App</h1>\n",
       " <div>\n",
       " <a href=\"/\" style=\"margin-right: 1rem;\">Weather</a>\n",
       " <a href=\"/about\" style=\"margin-right: 1rem;\">About</a>\n",
       " <a href=\"/help\" style=\"margin-right: 1rem;\">Help</a>\n",
       " </div>\n",
       " </header> <p>Get your weather here!</p>\n",
       " <form action=\"\">\n",
       " <input placeholder=\"Location\" type=\"text\"/>\n",
       " <button>Search</button>\n",
       " </form>\n",
       " <div>\n",
       " <p class=\"location\"></p>\n",
       " <p class=\"forecast\"></p>\n",
       " </div>\n",
       " </div>\n",
       " <footer>\n",
       " <p>Created by Hrishabh Jain</p>\n",
       " </footer> <script src=\"./js/app.js\"></script>\n",
       " </body>,\n",
       " <div class=\"main-cont\">\n",
       " <header>\n",
       " <h1>Weather App</h1>\n",
       " <div>\n",
       " <a href=\"/\" style=\"margin-right: 1rem;\">Weather</a>\n",
       " <a href=\"/about\" style=\"margin-right: 1rem;\">About</a>\n",
       " <a href=\"/help\" style=\"margin-right: 1rem;\">Help</a>\n",
       " </div>\n",
       " </header> <p>Get your weather here!</p>\n",
       " <form action=\"\">\n",
       " <input placeholder=\"Location\" type=\"text\"/>\n",
       " <button>Search</button>\n",
       " </form>\n",
       " <div>\n",
       " <p class=\"location\"></p>\n",
       " <p class=\"forecast\"></p>\n",
       " </div>\n",
       " </div>,\n",
       " <header>\n",
       " <h1>Weather App</h1>\n",
       " <div>\n",
       " <a href=\"/\" style=\"margin-right: 1rem;\">Weather</a>\n",
       " <a href=\"/about\" style=\"margin-right: 1rem;\">About</a>\n",
       " <a href=\"/help\" style=\"margin-right: 1rem;\">Help</a>\n",
       " </div>\n",
       " </header>,\n",
       " <h1>Weather App</h1>,\n",
       " <div>\n",
       " <a href=\"/\" style=\"margin-right: 1rem;\">Weather</a>\n",
       " <a href=\"/about\" style=\"margin-right: 1rem;\">About</a>\n",
       " <a href=\"/help\" style=\"margin-right: 1rem;\">Help</a>\n",
       " </div>,\n",
       " <a href=\"/\" style=\"margin-right: 1rem;\">Weather</a>,\n",
       " <a href=\"/about\" style=\"margin-right: 1rem;\">About</a>,\n",
       " <a href=\"/help\" style=\"margin-right: 1rem;\">Help</a>,\n",
       " <p>Get your weather here!</p>,\n",
       " <form action=\"\">\n",
       " <input placeholder=\"Location\" type=\"text\"/>\n",
       " <button>Search</button>\n",
       " </form>,\n",
       " <input placeholder=\"Location\" type=\"text\"/>,\n",
       " <button>Search</button>,\n",
       " <div>\n",
       " <p class=\"location\"></p>\n",
       " <p class=\"forecast\"></p>\n",
       " </div>,\n",
       " <p class=\"location\"></p>,\n",
       " <p class=\"forecast\"></p>,\n",
       " <footer>\n",
       " <p>Created by Hrishabh Jain</p>\n",
       " </footer>,\n",
       " <p>Created by Hrishabh Jain</p>,\n",
       " <script src=\"./js/app.js\"></script>]"
      ]
     },
     "execution_count": 58,
     "metadata": {},
     "output_type": "execute_result"
    }
   ],
   "source": [
    "data.find_all(True) ### lists each and every tag"
   ]
  },
  {
   "cell_type": "markdown",
   "id": "009463f3",
   "metadata": {},
   "source": [
    "##### By id , class and CSS selectors"
   ]
  },
  {
   "cell_type": "code",
   "execution_count": 54,
   "id": "aa7003d4",
   "metadata": {},
   "outputs": [
    {
     "data": {
      "text/plain": [
       "[]"
      ]
     },
     "execution_count": 54,
     "metadata": {},
     "output_type": "execute_result"
    }
   ],
   "source": [
    "data.find_all(id = 'location') ## no results"
   ]
  },
  {
   "cell_type": "code",
   "execution_count": 56,
   "id": "95f2ff19",
   "metadata": {},
   "outputs": [
    {
     "data": {
      "text/plain": [
       "[<p class=\"location\"></p>]"
      ]
     },
     "execution_count": 56,
     "metadata": {},
     "output_type": "execute_result"
    }
   ],
   "source": [
    "data.find_all(class_ = 'location')"
   ]
  },
  {
   "cell_type": "code",
   "execution_count": 60,
   "id": "310fd91f",
   "metadata": {},
   "outputs": [
    {
     "data": {
      "text/plain": [
       "[<p class=\"location\"></p>]"
      ]
     },
     "execution_count": 60,
     "metadata": {},
     "output_type": "execute_result"
    }
   ],
   "source": [
    "data.select('p.location')"
   ]
  },
  {
   "cell_type": "code",
   "execution_count": 61,
   "id": "5583e394",
   "metadata": {},
   "outputs": [
    {
     "name": "stdout",
     "output_type": "stream",
     "text": [
      "<!DOCTYPE html>\n",
      "<html lang=\"en\">\n",
      " <head>\n",
      "  <meta charset=\"utf-8\"/>\n",
      "  <meta content=\"IE=edge\" http-equiv=\"X-UA-Compatible\"/>\n",
      "  <meta content=\"width=device-width, initial-scale=1.0\" name=\"viewport\"/>\n",
      "  <link href=\"/img/weather.png\" rel=\"icon\" type=\"image/x-icon\"/>\n",
      "  <link href=\"./css/styles.css\" rel=\"stylesheet\">\n",
      "   <title>\n",
      "    Weather App\n",
      "   </title>\n",
      "  </link>\n",
      " </head>\n",
      " <body>\n",
      "  <div class=\"main-cont\">\n",
      "   <header>\n",
      "    <h1>\n",
      "     Weather App\n",
      "    </h1>\n",
      "    <div>\n",
      "     <a href=\"/\" style=\"margin-right: 1rem;\">\n",
      "      Weather\n",
      "     </a>\n",
      "     <a href=\"/about\" style=\"margin-right: 1rem;\">\n",
      "      About\n",
      "     </a>\n",
      "     <a href=\"/help\" style=\"margin-right: 1rem;\">\n",
      "      Help\n",
      "     </a>\n",
      "    </div>\n",
      "   </header>\n",
      "   <p>\n",
      "    Get your weather here!\n",
      "   </p>\n",
      "   <form action=\"\">\n",
      "    <input placeholder=\"Location\" type=\"text\"/>\n",
      "    <button>\n",
      "     Search\n",
      "    </button>\n",
      "   </form>\n",
      "   <div>\n",
      "    <p class=\"location\">\n",
      "    </p>\n",
      "    <p class=\"forecast\">\n",
      "    </p>\n",
      "   </div>\n",
      "  </div>\n",
      "  <footer>\n",
      "   <p>\n",
      "    Created by Hrishabh Jain\n",
      "   </p>\n",
      "  </footer>\n",
      "  <script src=\"./js/app.js\">\n",
      "  </script>\n",
      " </body>\n",
      "</html>\n",
      "\n"
     ]
    }
   ],
   "source": [
    "print(data.prettify())"
   ]
  },
  {
   "cell_type": "code",
   "execution_count": 63,
   "id": "5998ed2d",
   "metadata": {},
   "outputs": [
    {
     "name": "stdout",
     "output_type": "stream",
     "text": [
      "<p>Get your weather here!</p>\n"
     ]
    }
   ],
   "source": [
    "print(data.p)"
   ]
  },
  {
   "cell_type": "code",
   "execution_count": 64,
   "id": "37911978",
   "metadata": {},
   "outputs": [
    {
     "data": {
      "text/plain": [
       "<title>Weather App</title>"
      ]
     },
     "execution_count": 64,
     "metadata": {},
     "output_type": "execute_result"
    }
   ],
   "source": [
    "data.head.title"
   ]
  },
  {
   "cell_type": "code",
   "execution_count": 66,
   "id": "f9a86128",
   "metadata": {},
   "outputs": [
    {
     "data": {
      "text/plain": [
       "<h1>Weather App</h1>"
      ]
     },
     "execution_count": 66,
     "metadata": {},
     "output_type": "execute_result"
    }
   ],
   "source": [
    "data.div.h1"
   ]
  },
  {
   "cell_type": "code",
   "execution_count": 67,
   "id": "195e6be7",
   "metadata": {},
   "outputs": [
    {
     "data": {
      "text/plain": [
       "'Weather App'"
      ]
     },
     "execution_count": 67,
     "metadata": {},
     "output_type": "execute_result"
    }
   ],
   "source": [
    "data.title.string"
   ]
  },
  {
   "cell_type": "code",
   "execution_count": 68,
   "id": "9d03d367",
   "metadata": {},
   "outputs": [
    {
     "data": {
      "text/plain": [
       "<p>Get your weather here!</p>"
      ]
     },
     "execution_count": 68,
     "metadata": {},
     "output_type": "execute_result"
    }
   ],
   "source": [
    "data.div.p"
   ]
  },
  {
   "cell_type": "markdown",
   "id": "a50c89a3",
   "metadata": {},
   "source": [
    "##### .string gives the text only if there is only one child element otherwise None"
   ]
  },
  {
   "cell_type": "code",
   "execution_count": 71,
   "id": "762741b5",
   "metadata": {},
   "outputs": [
    {
     "name": "stdout",
     "output_type": "stream",
     "text": [
      "None\n"
     ]
    }
   ],
   "source": [
    "print(data.div.string)"
   ]
  },
  {
   "cell_type": "code",
   "execution_count": 73,
   "id": "2a9e0753",
   "metadata": {
    "scrolled": true
   },
   "outputs": [
    {
     "name": "stdout",
     "output_type": "stream",
     "text": [
      "None\n"
     ]
    }
   ],
   "source": [
    "print(data.footer.string)"
   ]
  },
  {
   "cell_type": "code",
   "execution_count": 75,
   "id": "50d56297",
   "metadata": {},
   "outputs": [
    {
     "name": "stdout",
     "output_type": "stream",
     "text": [
      "<generator object Tag._all_strings at 0x7fec8136d200>\n",
      "<generator object Tag._all_strings at 0x7fec8136d200>\n",
      "<generator object Tag._all_strings at 0x7fec8136d200>\n",
      "<generator object Tag._all_strings at 0x7fec8136d200>\n"
     ]
    }
   ],
   "source": [
    "for i in li:\n",
    "    print(i.strings)"
   ]
  },
  {
   "cell_type": "code",
   "execution_count": 77,
   "id": "772aed4c",
   "metadata": {},
   "outputs": [
    {
     "name": "stdout",
     "output_type": "stream",
     "text": [
      "['Get your weather here!']\n",
      "[]\n",
      "[]\n",
      "['Created by Hrishabh Jain']\n"
     ]
    }
   ],
   "source": [
    "for i in li:\n",
    "    print(list(i.strings)) \n",
    "    \n",
    "### BETTER EXAMPLE IN THE VIDEO"
   ]
  },
  {
   "cell_type": "code",
   "execution_count": 79,
   "id": "6d3d2e3c",
   "metadata": {},
   "outputs": [
    {
     "name": "stdout",
     "output_type": "stream",
     "text": [
      "['Get your weather here!']\n",
      "[]\n",
      "[]\n",
      "['Created by Hrishabh Jain']\n"
     ]
    }
   ],
   "source": [
    "for i in li:\n",
    "    print(list(i.stripped_strings)) "
   ]
  },
  {
   "cell_type": "code",
   "execution_count": 82,
   "id": "3cbf755e",
   "metadata": {},
   "outputs": [
    {
     "name": "stdout",
     "output_type": "stream",
     "text": [
      "5\n",
      "\n",
      "\n",
      "<head>\n",
      "<meta charset=\"utf-8\"/>\n",
      "<meta content=\"IE=edge\" http-equiv=\"X-UA-Compatible\"/>\n",
      "<meta content=\"width=device-width, initial-scale=1.0\" name=\"viewport\"/>\n",
      "<link href=\"/img/weather.png\" rel=\"icon\" type=\"image/x-icon\"/>\n",
      "<link href=\"./css/styles.css\" rel=\"stylesheet\">\n",
      "<title>Weather App</title>\n",
      "</link></head>\n",
      "\n",
      "\n",
      "<body>\n",
      "<div class=\"main-cont\">\n",
      "<header>\n",
      "<h1>Weather App</h1>\n",
      "<div>\n",
      "<a href=\"/\" style=\"margin-right: 1rem;\">Weather</a>\n",
      "<a href=\"/about\" style=\"margin-right: 1rem;\">About</a>\n",
      "<a href=\"/help\" style=\"margin-right: 1rem;\">Help</a>\n",
      "</div>\n",
      "</header> <p>Get your weather here!</p>\n",
      "<form action=\"\">\n",
      "<input placeholder=\"Location\" type=\"text\"/>\n",
      "<button>Search</button>\n",
      "</form>\n",
      "<div>\n",
      "<p class=\"location\"></p>\n",
      "<p class=\"forecast\"></p>\n",
      "</div>\n",
      "</div>\n",
      "<footer>\n",
      "<p>Created by Hrishabh Jain</p>\n",
      "</footer> <script src=\"./js/app.js\"></script>\n",
      "</body>\n",
      "\n",
      "\n"
     ]
    }
   ],
   "source": [
    "li_1 = data.html.contents\n",
    "print(len(li_1))\n",
    "\n",
    "for i in li_1:\n",
    "    print(i)"
   ]
  },
  {
   "cell_type": "code",
   "execution_count": 83,
   "id": "3c73cc49",
   "metadata": {},
   "outputs": [
    {
     "name": "stdout",
     "output_type": "stream",
     "text": [
      "\n",
      "\n",
      "<head>\n",
      "<meta charset=\"utf-8\"/>\n",
      "<meta content=\"IE=edge\" http-equiv=\"X-UA-Compatible\"/>\n",
      "<meta content=\"width=device-width, initial-scale=1.0\" name=\"viewport\"/>\n",
      "<link href=\"/img/weather.png\" rel=\"icon\" type=\"image/x-icon\"/>\n",
      "<link href=\"./css/styles.css\" rel=\"stylesheet\">\n",
      "<title>Weather App</title>\n",
      "</link></head>\n",
      "\n",
      "\n",
      "<body>\n",
      "<div class=\"main-cont\">\n",
      "<header>\n",
      "<h1>Weather App</h1>\n",
      "<div>\n",
      "<a href=\"/\" style=\"margin-right: 1rem;\">Weather</a>\n",
      "<a href=\"/about\" style=\"margin-right: 1rem;\">About</a>\n",
      "<a href=\"/help\" style=\"margin-right: 1rem;\">Help</a>\n",
      "</div>\n",
      "</header> <p>Get your weather here!</p>\n",
      "<form action=\"\">\n",
      "<input placeholder=\"Location\" type=\"text\"/>\n",
      "<button>Search</button>\n",
      "</form>\n",
      "<div>\n",
      "<p class=\"location\"></p>\n",
      "<p class=\"forecast\"></p>\n",
      "</div>\n",
      "</div>\n",
      "<footer>\n",
      "<p>Created by Hrishabh Jain</p>\n",
      "</footer> <script src=\"./js/app.js\"></script>\n",
      "</body>\n",
      "\n",
      "\n"
     ]
    }
   ],
   "source": [
    "li_2 = data.html.children\n",
    "\n",
    "for i in li_2:\n",
    "    print(i)"
   ]
  },
  {
   "cell_type": "code",
   "execution_count": 85,
   "id": "5d47eb8b",
   "metadata": {},
   "outputs": [
    {
     "name": "stdout",
     "output_type": "stream",
     "text": [
      "67\n",
      "\n",
      "\n",
      "<head>\n",
      "<meta charset=\"utf-8\"/>\n",
      "<meta content=\"IE=edge\" http-equiv=\"X-UA-Compatible\"/>\n",
      "<meta content=\"width=device-width, initial-scale=1.0\" name=\"viewport\"/>\n",
      "<link href=\"/img/weather.png\" rel=\"icon\" type=\"image/x-icon\"/>\n",
      "<link href=\"./css/styles.css\" rel=\"stylesheet\">\n",
      "<title>Weather App</title>\n",
      "</link></head>\n",
      "\n",
      "\n",
      "<meta charset=\"utf-8\"/>\n",
      "\n",
      "\n",
      "<meta content=\"IE=edge\" http-equiv=\"X-UA-Compatible\"/>\n",
      "\n",
      "\n",
      "<meta content=\"width=device-width, initial-scale=1.0\" name=\"viewport\"/>\n",
      "\n",
      "\n",
      "<link href=\"/img/weather.png\" rel=\"icon\" type=\"image/x-icon\"/>\n",
      "\n",
      "\n",
      "<link href=\"./css/styles.css\" rel=\"stylesheet\">\n",
      "<title>Weather App</title>\n",
      "</link>\n",
      "\n",
      "\n",
      "<title>Weather App</title>\n",
      "Weather App\n",
      "\n",
      "\n",
      "\n",
      "\n",
      "<body>\n",
      "<div class=\"main-cont\">\n",
      "<header>\n",
      "<h1>Weather App</h1>\n",
      "<div>\n",
      "<a href=\"/\" style=\"margin-right: 1rem;\">Weather</a>\n",
      "<a href=\"/about\" style=\"margin-right: 1rem;\">About</a>\n",
      "<a href=\"/help\" style=\"margin-right: 1rem;\">Help</a>\n",
      "</div>\n",
      "</header> <p>Get your weather here!</p>\n",
      "<form action=\"\">\n",
      "<input placeholder=\"Location\" type=\"text\"/>\n",
      "<button>Search</button>\n",
      "</form>\n",
      "<div>\n",
      "<p class=\"location\"></p>\n",
      "<p class=\"forecast\"></p>\n",
      "</div>\n",
      "</div>\n",
      "<footer>\n",
      "<p>Created by Hrishabh Jain</p>\n",
      "</footer> <script src=\"./js/app.js\"></script>\n",
      "</body>\n",
      "\n",
      "\n",
      "<div class=\"main-cont\">\n",
      "<header>\n",
      "<h1>Weather App</h1>\n",
      "<div>\n",
      "<a href=\"/\" style=\"margin-right: 1rem;\">Weather</a>\n",
      "<a href=\"/about\" style=\"margin-right: 1rem;\">About</a>\n",
      "<a href=\"/help\" style=\"margin-right: 1rem;\">Help</a>\n",
      "</div>\n",
      "</header> <p>Get your weather here!</p>\n",
      "<form action=\"\">\n",
      "<input placeholder=\"Location\" type=\"text\"/>\n",
      "<button>Search</button>\n",
      "</form>\n",
      "<div>\n",
      "<p class=\"location\"></p>\n",
      "<p class=\"forecast\"></p>\n",
      "</div>\n",
      "</div>\n",
      "\n",
      "\n",
      "<header>\n",
      "<h1>Weather App</h1>\n",
      "<div>\n",
      "<a href=\"/\" style=\"margin-right: 1rem;\">Weather</a>\n",
      "<a href=\"/about\" style=\"margin-right: 1rem;\">About</a>\n",
      "<a href=\"/help\" style=\"margin-right: 1rem;\">Help</a>\n",
      "</div>\n",
      "</header>\n",
      "\n",
      "\n",
      "<h1>Weather App</h1>\n",
      "Weather App\n",
      "\n",
      "\n",
      "<div>\n",
      "<a href=\"/\" style=\"margin-right: 1rem;\">Weather</a>\n",
      "<a href=\"/about\" style=\"margin-right: 1rem;\">About</a>\n",
      "<a href=\"/help\" style=\"margin-right: 1rem;\">Help</a>\n",
      "</div>\n",
      "\n",
      "\n",
      "<a href=\"/\" style=\"margin-right: 1rem;\">Weather</a>\n",
      "Weather\n",
      "\n",
      "\n",
      "<a href=\"/about\" style=\"margin-right: 1rem;\">About</a>\n",
      "About\n",
      "\n",
      "\n",
      "<a href=\"/help\" style=\"margin-right: 1rem;\">Help</a>\n",
      "Help\n",
      "\n",
      "\n",
      "\n",
      "\n",
      " \n",
      "<p>Get your weather here!</p>\n",
      "Get your weather here!\n",
      "\n",
      "\n",
      "<form action=\"\">\n",
      "<input placeholder=\"Location\" type=\"text\"/>\n",
      "<button>Search</button>\n",
      "</form>\n",
      "\n",
      "\n",
      "<input placeholder=\"Location\" type=\"text\"/>\n",
      "\n",
      "\n",
      "<button>Search</button>\n",
      "Search\n",
      "\n",
      "\n",
      "\n",
      "\n",
      "<div>\n",
      "<p class=\"location\"></p>\n",
      "<p class=\"forecast\"></p>\n",
      "</div>\n",
      "\n",
      "\n",
      "<p class=\"location\"></p>\n",
      "\n",
      "\n",
      "<p class=\"forecast\"></p>\n",
      "\n",
      "\n",
      "\n",
      "\n",
      "\n",
      "\n",
      "<footer>\n",
      "<p>Created by Hrishabh Jain</p>\n",
      "</footer>\n",
      "\n",
      "\n",
      "<p>Created by Hrishabh Jain</p>\n",
      "Created by Hrishabh Jain\n",
      "\n",
      "\n",
      " \n",
      "<script src=\"./js/app.js\"></script>\n",
      "\n",
      "\n",
      "\n",
      "\n"
     ]
    }
   ],
   "source": [
    "desc = list(data.html.descendants)\n",
    "\n",
    "print(len(desc))\n",
    "\n",
    "for i in desc:\n",
    "    print(i)"
   ]
  },
  {
   "cell_type": "code",
   "execution_count": null,
   "id": "0486f3db",
   "metadata": {},
   "outputs": [],
   "source": []
  },
  {
   "cell_type": "code",
   "execution_count": null,
   "id": "d8ed4670",
   "metadata": {},
   "outputs": [],
   "source": []
  },
  {
   "cell_type": "code",
   "execution_count": null,
   "id": "e5822c0a",
   "metadata": {},
   "outputs": [],
   "source": []
  },
  {
   "cell_type": "code",
   "execution_count": null,
   "id": "297cb91d",
   "metadata": {},
   "outputs": [],
   "source": []
  },
  {
   "cell_type": "code",
   "execution_count": null,
   "id": "43e0c7de",
   "metadata": {},
   "outputs": [],
   "source": []
  },
  {
   "cell_type": "code",
   "execution_count": null,
   "id": "d9669579",
   "metadata": {},
   "outputs": [],
   "source": []
  },
  {
   "cell_type": "code",
   "execution_count": null,
   "id": "a4debfa2",
   "metadata": {},
   "outputs": [],
   "source": []
  },
  {
   "cell_type": "code",
   "execution_count": null,
   "id": "699b7236",
   "metadata": {},
   "outputs": [],
   "source": []
  },
  {
   "cell_type": "code",
   "execution_count": null,
   "id": "2188e0de",
   "metadata": {},
   "outputs": [],
   "source": []
  },
  {
   "cell_type": "code",
   "execution_count": null,
   "id": "dc85113f",
   "metadata": {},
   "outputs": [],
   "source": []
  }
 ],
 "metadata": {
  "kernelspec": {
   "display_name": "Python 3 (ipykernel)",
   "language": "python",
   "name": "python3"
  },
  "language_info": {
   "codemirror_mode": {
    "name": "ipython",
    "version": 3
   },
   "file_extension": ".py",
   "mimetype": "text/x-python",
   "name": "python",
   "nbconvert_exporter": "python",
   "pygments_lexer": "ipython3",
   "version": "3.9.7"
  }
 },
 "nbformat": 4,
 "nbformat_minor": 5
}
