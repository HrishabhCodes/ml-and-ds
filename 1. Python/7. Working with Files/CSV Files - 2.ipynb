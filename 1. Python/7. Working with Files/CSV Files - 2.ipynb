{
 "cells": [
  {
   "cell_type": "code",
   "execution_count": 1,
   "id": "3ef0e5f7",
   "metadata": {},
   "outputs": [
    {
     "name": "stdout",
     "output_type": "stream",
     "text": [
      "26445.0\n"
     ]
    }
   ],
   "source": [
    "import csv\n",
    "with open(\"Dataset2/year2017.csv\") as file_obj:\n",
    "    file_data = csv.reader(file_obj)\n",
    "    file_list = list(file_data)\n",
    "    \n",
    "killed = []\n",
    "for row in file_list[1:]:\n",
    "    val = row[9]\n",
    "    if val != \"\":\n",
    "        killed.append(float(val))\n",
    "\n",
    "print(sum(killed))"
   ]
  }
 ],
 "metadata": {
  "kernelspec": {
   "display_name": "Python 3 (ipykernel)",
   "language": "python",
   "name": "python3"
  },
  "language_info": {
   "codemirror_mode": {
    "name": "ipython",
    "version": 3
   },
   "file_extension": ".py",
   "mimetype": "text/x-python",
   "name": "python",
   "nbconvert_exporter": "python",
   "pygments_lexer": "ipython3",
   "version": "3.9.7"
  }
 },
 "nbformat": 4,
 "nbformat_minor": 5
}
