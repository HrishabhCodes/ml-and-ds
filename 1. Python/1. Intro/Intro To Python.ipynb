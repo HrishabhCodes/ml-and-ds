{
 "cells": [
  {
   "cell_type": "markdown",
   "id": "e05eca1a",
   "metadata": {},
   "source": [
    "## Intro to Jupyter\n",
    "\n",
    "We can write code and markdown in the cells. You can choose accordingly!"
   ]
  },
  {
   "cell_type": "markdown",
   "id": "069f6304",
   "metadata": {},
   "source": [
    "### Variables"
   ]
  },
  {
   "cell_type": "code",
   "execution_count": 11,
   "id": "daf7fb42",
   "metadata": {},
   "outputs": [
    {
     "name": "stdout",
     "output_type": "stream",
     "text": [
      "30\n"
     ]
    }
   ],
   "source": [
    "a = 10\n",
    "b = 20\n",
    "\n",
    "sum = a+b\n",
    "print(sum)"
   ]
  },
  {
   "cell_type": "code",
   "execution_count": 12,
   "id": "8351b67f",
   "metadata": {},
   "outputs": [],
   "source": [
    "# This is a python comment"
   ]
  },
  {
   "cell_type": "markdown",
   "id": "e6ffcc6c",
   "metadata": {},
   "source": [
    "### Assigning different type of data to a variable"
   ]
  },
  {
   "cell_type": "code",
   "execution_count": 20,
   "id": "29601519",
   "metadata": {},
   "outputs": [
    {
     "data": {
      "text/plain": [
       "'c'"
      ]
     },
     "execution_count": 20,
     "metadata": {},
     "output_type": "execute_result"
    }
   ],
   "source": [
    "a = 10\n",
    "a = 'c'\n",
    "\n",
    "a"
   ]
  },
  {
   "cell_type": "code",
   "execution_count": 22,
   "id": "13daadd2",
   "metadata": {},
   "outputs": [
    {
     "data": {
      "text/plain": [
       "str"
      ]
     },
     "execution_count": 22,
     "metadata": {},
     "output_type": "execute_result"
    }
   ],
   "source": [
    "type(a)"
   ]
  },
  {
   "cell_type": "markdown",
   "id": "0579146b",
   "metadata": {},
   "source": [
    "### Python Numbers"
   ]
  },
  {
   "cell_type": "code",
   "execution_count": 25,
   "id": "ea301a28",
   "metadata": {},
   "outputs": [
    {
     "name": "stdout",
     "output_type": "stream",
     "text": [
      "11\n",
      "3.4\n",
      "(4+5j)\n"
     ]
    }
   ],
   "source": [
    "a1 = 11\n",
    "a2 = 3.4\n",
    "a3 = 4 + 5j\n",
    "print(a1)\n",
    "print(a2)\n",
    "print(a3)"
   ]
  },
  {
   "cell_type": "code",
   "execution_count": 28,
   "id": "89660710",
   "metadata": {},
   "outputs": [
    {
     "name": "stdout",
     "output_type": "stream",
     "text": [
      "140691342760528\n",
      "140691342760560\n"
     ]
    }
   ],
   "source": [
    "a = 10\n",
    "print(id(a))\n",
    "a = a+1\n",
    "print(id(a))"
   ]
  },
  {
   "cell_type": "code",
   "execution_count": 32,
   "id": "8d83c1ec",
   "metadata": {},
   "outputs": [
    {
     "name": "stdout",
     "output_type": "stream",
     "text": [
      "140691436136752\n",
      "140691436136816\n"
     ]
    }
   ],
   "source": [
    "a = 1000\n",
    "b = 1000\n",
    "print(id(a))\n",
    "print(id(b))"
   ]
  },
  {
   "cell_type": "code",
   "execution_count": 34,
   "id": "bdb2254b",
   "metadata": {},
   "outputs": [
    {
     "name": "stdout",
     "output_type": "stream",
     "text": [
      "13\n",
      "7\n",
      "30\n",
      "3.3333333333333335\n",
      "3\n",
      "1000\n",
      "1\n"
     ]
    }
   ],
   "source": [
    "a=10\n",
    "b=3\n",
    "print(a+b)\n",
    "print(a-b)\n",
    "print(a*b)\n",
    "print(a/b) # Floating point division\n",
    "print(a//b) # Integer division\n",
    "print(a**b)\n",
    "print(a%b)"
   ]
  },
  {
   "cell_type": "code",
   "execution_count": 36,
   "id": "0a1ecff1",
   "metadata": {},
   "outputs": [
    {
     "data": {
      "text/plain": [
       "14"
      ]
     },
     "execution_count": 36,
     "metadata": {},
     "output_type": "execute_result"
    }
   ],
   "source": [
    "2 + 3 * 4"
   ]
  },
  {
   "cell_type": "code",
   "execution_count": 38,
   "id": "9a1a3dd6",
   "metadata": {},
   "outputs": [
    {
     "data": {
      "text/plain": [
       "1.5"
      ]
     },
     "execution_count": 38,
     "metadata": {},
     "output_type": "execute_result"
    }
   ],
   "source": [
    "2*3/4 # Does not matter in this case"
   ]
  },
  {
   "cell_type": "code",
   "execution_count": 41,
   "id": "bf59052f",
   "metadata": {},
   "outputs": [
    {
     "data": {
      "text/plain": [
       "1"
      ]
     },
     "execution_count": 41,
     "metadata": {},
     "output_type": "execute_result"
    }
   ],
   "source": [
    "2*3//4 # (* > //)"
   ]
  },
  {
   "cell_type": "code",
   "execution_count": 45,
   "id": "332ba10b",
   "metadata": {},
   "outputs": [
    {
     "data": {
      "text/plain": [
       "40"
      ]
     },
     "execution_count": 45,
     "metadata": {},
     "output_type": "execute_result"
    }
   ],
   "source": [
    "#  Simple interest to lower integer\n",
    "p = 100\n",
    "r = 4\n",
    "t = 10\n",
    "si = (p * r* t)//100\n",
    "si"
   ]
  },
  {
   "cell_type": "code",
   "execution_count": 49,
   "id": "13e57a59",
   "metadata": {},
   "outputs": [
    {
     "data": {
      "text/plain": [
       "37"
      ]
     },
     "execution_count": 49,
     "metadata": {},
     "output_type": "execute_result"
    }
   ],
   "source": [
    "#  Fah to celsius conversion\n",
    "f = 100\n",
    "c = (f-32) * 5/9\n",
    "c\n",
    "ci = (f-32) * 5//9 # celsius in integer\n",
    "ci"
   ]
  },
  {
   "cell_type": "markdown",
   "id": "7f057fb0",
   "metadata": {},
   "source": [
    "### Input"
   ]
  },
  {
   "cell_type": "code",
   "execution_count": 52,
   "id": "3b917f18",
   "metadata": {},
   "outputs": [
    {
     "name": "stdout",
     "output_type": "stream",
     "text": [
      "23\n",
      "23\n",
      "46\n"
     ]
    }
   ],
   "source": [
    "a = int(input())\n",
    "b = int(input())\n",
    "sum = a+b\n",
    "print(sum)"
   ]
  },
  {
   "cell_type": "code",
   "execution_count": 55,
   "id": "152c677d",
   "metadata": {},
   "outputs": [
    {
     "name": "stdout",
     "output_type": "stream",
     "text": [
      "1\n",
      "1\n",
      "3\n",
      "3\n",
      "4\n"
     ]
    }
   ],
   "source": [
    "x1 = int(input())\n",
    "y1 = int(input())\n",
    "x2 = int(input())\n",
    "y2 = int(input())\n",
    "area = (x2-x1)*(y2-y1)\n",
    "print(area)"
   ]
  }
 ],
 "metadata": {
  "kernelspec": {
   "display_name": "Python 3 (ipykernel)",
   "language": "python",
   "name": "python3"
  },
  "language_info": {
   "codemirror_mode": {
    "name": "ipython",
    "version": 3
   },
   "file_extension": ".py",
   "mimetype": "text/x-python",
   "name": "python",
   "nbconvert_exporter": "python",
   "pygments_lexer": "ipython3",
   "version": "3.9.7"
  }
 },
 "nbformat": 4,
 "nbformat_minor": 5
}
