{
 "cells": [
  {
   "cell_type": "code",
   "execution_count": 6,
   "id": "ac98bf92",
   "metadata": {},
   "outputs": [
    {
     "name": "stdout",
     "output_type": "stream",
     "text": [
      "4\n",
      "2\n"
     ]
    },
    {
     "data": {
      "text/plain": [
       "6"
      ]
     },
     "execution_count": 6,
     "metadata": {},
     "output_type": "execute_result"
    }
   ],
   "source": [
    "n = int(input())\n",
    "r = int(input())\n",
    "\n",
    "n_fact = fact(n)\n",
    "r_fact = fact(r)\n",
    "diff_fact = fact(n-r)\n",
    "\n",
    "def fact(n):\n",
    "    ans = 1\n",
    "    for i in range(1,n + 1):\n",
    "        ans *= i\n",
    "    return ans\n",
    "\n",
    "\n",
    "fact(n)//(fact(r)*fact(n-r))"
   ]
  },
  {
   "cell_type": "code",
   "execution_count": 12,
   "id": "b3c11f3b",
   "metadata": {},
   "outputs": [
    {
     "name": "stdout",
     "output_type": "stream",
     "text": [
      "17\n"
     ]
    },
    {
     "data": {
      "text/plain": [
       "True"
      ]
     },
     "execution_count": 12,
     "metadata": {},
     "output_type": "execute_result"
    }
   ],
   "source": [
    "def isPrime(n):\n",
    "    for i in range(2, n):\n",
    "        if n % i == 0:\n",
    "            return False\n",
    "    return True\n",
    "\n",
    "n = int(input())\n",
    "isPrime(n)"
   ]
  },
  {
   "cell_type": "code",
   "execution_count": 14,
   "id": "96ba9511",
   "metadata": {},
   "outputs": [
    {
     "name": "stdout",
     "output_type": "stream",
     "text": [
      "2\n",
      "3\n",
      "5\n",
      "7\n",
      "11\n",
      "13\n",
      "17\n",
      "19\n"
     ]
    }
   ],
   "source": [
    "#  All prime numbers from 2 to N\n",
    "\n",
    "def primes2toN(n):\n",
    "    for i in range(2, n+1):\n",
    "        if isPrime(i):\n",
    "            print(i)\n",
    "            \n",
    "primes2toN(20)"
   ]
  },
  {
   "cell_type": "code",
   "execution_count": 15,
   "id": "77c49282",
   "metadata": {},
   "outputs": [
    {
     "data": {
      "text/plain": [
       "6"
      ]
     },
     "execution_count": 15,
     "metadata": {},
     "output_type": "execute_result"
    }
   ],
   "source": [
    "def ncr(n, r):\n",
    "    return fact(n)//(fact(r)*fact(n-r))\n",
    "ncr(4,2)"
   ]
  },
  {
   "cell_type": "code",
   "execution_count": 24,
   "id": "c23c65a4",
   "metadata": {},
   "outputs": [
    {
     "data": {
      "text/plain": [
       "[4, 3, 45, 5, 5, 43, 2, 1]"
      ]
     },
     "execution_count": 24,
     "metadata": {},
     "output_type": "execute_result"
    }
   ],
   "source": [
    "l = [1,2,43,5,5,45,3,4]\n",
    "\n",
    "def reverse(l):\n",
    "    a = []\n",
    "    for i in range(len(l)-1, -1, -1):\n",
    "        a.append(l[i]) \n",
    "    return a\n",
    "reverse(l)"
   ]
  },
  {
   "cell_type": "code",
   "execution_count": 29,
   "id": "f700f781",
   "metadata": {},
   "outputs": [
    {
     "data": {
      "text/plain": [
       "[2, 1, 5, 43, 45, 5, 4, 3]"
      ]
     },
     "execution_count": 29,
     "metadata": {},
     "output_type": "execute_result"
    }
   ],
   "source": [
    "def swap(l, i, j):\n",
    "    temp = l[i]\n",
    "    l[i] = l[j]\n",
    "    l[j] = temp\n",
    "\n",
    "def swapAlt(l):\n",
    "    if len(l)%2==0:\n",
    "        for i in range(0, len(l), 2):\n",
    "            swap(l, i, i+1)\n",
    "    else:\n",
    "        for i in range(0, len(l)-1, 2):\n",
    "            swap(l, i, i+1)\n",
    "    return l\n",
    "\n",
    "# swapAlt(l)"
   ]
  },
  {
   "cell_type": "code",
   "execution_count": 49,
   "id": "3b54f50f",
   "metadata": {},
   "outputs": [
    {
     "data": {
      "text/plain": [
       "[2, 1, 5, 4, 3, 6, 7]"
      ]
     },
     "execution_count": 49,
     "metadata": {},
     "output_type": "execute_result"
    }
   ],
   "source": [
    "a = [1,2,4,5,6,3,7]\n",
    "def swapConsecutive(l):\n",
    "    i = 0\n",
    "    while i+1 < len(l):\n",
    "        l[i], l[i+1] = l[i+1], l[i]\n",
    "        i+=2\n",
    "    return l\n",
    "\n",
    "swapConsecutive(a)"
   ]
  },
  {
   "cell_type": "code",
   "execution_count": 53,
   "id": "ee11036b",
   "metadata": {},
   "outputs": [
    {
     "name": "stdout",
     "output_type": "stream",
     "text": [
      "140420734654864\n",
      "140420734654864\n",
      "4\n"
     ]
    }
   ],
   "source": [
    "a4 = 2\n",
    "\n",
    "def f():\n",
    "    global a4\n",
    "    a4 = 4\n",
    "    print(id(a4))\n",
    "    \n",
    "f()\n",
    "print(id(a4))\n",
    "print(a4)"
   ]
  },
  {
   "cell_type": "code",
   "execution_count": null,
   "id": "3932acc2",
   "metadata": {},
   "outputs": [],
   "source": []
  },
  {
   "cell_type": "code",
   "execution_count": null,
   "id": "bf13014e",
   "metadata": {},
   "outputs": [],
   "source": []
  },
  {
   "cell_type": "code",
   "execution_count": null,
   "id": "e3a395a1",
   "metadata": {},
   "outputs": [],
   "source": []
  },
  {
   "cell_type": "code",
   "execution_count": null,
   "id": "cd0d7022",
   "metadata": {},
   "outputs": [],
   "source": []
  },
  {
   "cell_type": "code",
   "execution_count": null,
   "id": "12571075",
   "metadata": {},
   "outputs": [],
   "source": []
  }
 ],
 "metadata": {
  "kernelspec": {
   "display_name": "Python 3 (ipykernel)",
   "language": "python",
   "name": "python3"
  },
  "language_info": {
   "codemirror_mode": {
    "name": "ipython",
    "version": 3
   },
   "file_extension": ".py",
   "mimetype": "text/x-python",
   "name": "python",
   "nbconvert_exporter": "python",
   "pygments_lexer": "ipython3",
   "version": "3.9.7"
  }
 },
 "nbformat": 4,
 "nbformat_minor": 5
}
