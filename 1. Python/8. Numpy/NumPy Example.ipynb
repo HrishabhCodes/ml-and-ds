{
 "cells": [
  {
   "cell_type": "code",
   "execution_count": 17,
   "id": "3f03a2c2",
   "metadata": {},
   "outputs": [
    {
     "name": "stdout",
     "output_type": "stream",
     "text": [
      "India: 1167\n",
      "Total: 51372\n"
     ]
    }
   ],
   "source": [
    "import numpy as np\n",
    "import csv\n",
    "\n",
    "file_obj = open(\"./year2017.csv\")\n",
    "data = csv.DictReader(file_obj, skipinitialspace = True)\n",
    "\n",
    "killed = []\n",
    "wounded = []\n",
    "country = []\n",
    "\n",
    "for row in data:\n",
    "    killed.append(row[\"Killed\"])\n",
    "    wounded.append(row[\"Wounded\"])    \n",
    "    country.append(row[\"Country\"])    \n",
    "    \n",
    "np_killed = np.array(killed)\n",
    "np_wounded = np.array(wounded)\n",
    "\n",
    "np_killed[np_killed == \"\"] = \"0.0\"\n",
    "np_wounded[np_wounded == \"\"] = \"0.0\"\n",
    "\n",
    "np_killed = np.array(np_killed, dtype = float)\n",
    "np_wounded = np.array(np_wounded, dtype = float)\n",
    "\n",
    "killed_wounded = np_killed + np_wounded\n",
    "\n",
    "np_country = np.array(country)\n",
    "\n",
    "bool_arr = np_country == \"India\"\n",
    "ans = killed_wounded[bool_arr]\n",
    "print(\"India:\", int(np.sum(ans)))\n",
    "print(\"Total:\", int(np.sum(killed_wounded)))"
   ]
  },
  {
   "cell_type": "code",
   "execution_count": null,
   "id": "228d8b09",
   "metadata": {},
   "outputs": [],
   "source": []
  }
 ],
 "metadata": {
  "kernelspec": {
   "display_name": "Python 3 (ipykernel)",
   "language": "python",
   "name": "python3"
  },
  "language_info": {
   "codemirror_mode": {
    "name": "ipython",
    "version": 3
   },
   "file_extension": ".py",
   "mimetype": "text/x-python",
   "name": "python",
   "nbconvert_exporter": "python",
   "pygments_lexer": "ipython3",
   "version": "3.9.7"
  }
 },
 "nbformat": 4,
 "nbformat_minor": 5
}
