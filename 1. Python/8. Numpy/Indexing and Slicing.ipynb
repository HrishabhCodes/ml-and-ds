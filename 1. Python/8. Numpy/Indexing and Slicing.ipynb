{
 "cells": [
  {
   "cell_type": "markdown",
   "id": "e2d09da3",
   "metadata": {},
   "source": [
    "###### NumPy arrays are basically a collection of references or pointers which point to:\n",
    "- data → reference to 1st byte of the array / 1st element of the array\n",
    "- dtype → data type\n",
    "- shape → size of the array\n",
    "- strides → number of bytes to be skipped to get to the next element"
   ]
  },
  {
   "cell_type": "markdown",
   "id": "8fc5cd80",
   "metadata": {},
   "source": [
    "### 1-D Array"
   ]
  },
  {
   "cell_type": "code",
   "execution_count": 5,
   "id": "71d64319",
   "metadata": {
    "scrolled": true
   },
   "outputs": [
    {
     "name": "stdout",
     "output_type": "stream",
     "text": [
      "[1, 2, 3, 4, 5]\n",
      "[1 2 3 4 5]\n"
     ]
    }
   ],
   "source": [
    "import numpy as np\n",
    "\n",
    "li = [1,2,3,4,5]\n",
    "arr = np.array(li)\n",
    "\n",
    "print(li)\n",
    "print(arr)"
   ]
  },
  {
   "cell_type": "code",
   "execution_count": 8,
   "id": "5c89b5ea",
   "metadata": {},
   "outputs": [
    {
     "name": "stdout",
     "output_type": "stream",
     "text": [
      "<memory at 0x7f8a18dbef40>\n",
      "(5,)\n",
      "(8,)\n",
      "int64\n"
     ]
    }
   ],
   "source": [
    "print(arr.data)\n",
    "print(arr.shape)\n",
    "print(arr.strides)\n",
    "print(arr.dtype)"
   ]
  },
  {
   "cell_type": "markdown",
   "id": "896e6e8b",
   "metadata": {},
   "source": [
    "###### Accessing elements of the NumPy array"
   ]
  },
  {
   "cell_type": "code",
   "execution_count": 15,
   "id": "d2fcd55e",
   "metadata": {},
   "outputs": [
    {
     "name": "stdout",
     "output_type": "stream",
     "text": [
      "3\n",
      "3\n",
      "[2, 3, 4]\n",
      "[2 3 4]\n"
     ]
    }
   ],
   "source": [
    "print(li[2])\n",
    "print(arr[2])\n",
    "print(li[1:4])\n",
    "print(arr[1:4])"
   ]
  },
  {
   "cell_type": "code",
   "execution_count": null,
   "id": "6fdba2f0",
   "metadata": {},
   "outputs": [],
   "source": []
  },
  {
   "cell_type": "markdown",
   "id": "b79c7ea9",
   "metadata": {},
   "source": [
    "### 2-D Array"
   ]
  },
  {
   "cell_type": "code",
   "execution_count": 4,
   "id": "f96669bc",
   "metadata": {},
   "outputs": [
    {
     "name": "stdout",
     "output_type": "stream",
     "text": [
      "[[1, 2, 3, 4], [5, 6, 7, 8], [9, 10, 11, 12], [13, 14, 15, 16]]\n",
      "[[ 1  2  3  4]\n",
      " [ 5  6  7  8]\n",
      " [ 9 10 11 12]\n",
      " [13 14 15 16]]\n"
     ]
    }
   ],
   "source": [
    "import numpy as np\n",
    "\n",
    "li_2d = [[1,2,3,4], [5,6,7,8], [9,10,11,12], [13,14,15,16]]\n",
    "arr_2d = np.array(li_2d)\n",
    "\n",
    "print(li_2d)\n",
    "print(arr_2d)"
   ]
  },
  {
   "cell_type": "code",
   "execution_count": 7,
   "id": "2d1a22cf",
   "metadata": {},
   "outputs": [
    {
     "name": "stdout",
     "output_type": "stream",
     "text": [
      "<memory at 0x7f8a189392b0>\n",
      "(4, 4)\n",
      "(32, 8)\n",
      "int64\n"
     ]
    }
   ],
   "source": [
    "print(arr_2d.data)\n",
    "print(arr_2d.shape)\n",
    "print(arr_2d.strides)\n",
    "print(arr_2d.dtype)"
   ]
  },
  {
   "cell_type": "markdown",
   "id": "a44ace1f",
   "metadata": {},
   "source": [
    "###### Accessing elements of the NumPy array"
   ]
  },
  {
   "cell_type": "code",
   "execution_count": 20,
   "id": "b338bc65",
   "metadata": {},
   "outputs": [
    {
     "name": "stdout",
     "output_type": "stream",
     "text": [
      "12\n",
      "12\n",
      "12\n"
     ]
    }
   ],
   "source": [
    "print(li_2d[2][3])\n",
    "print(arr_2d[2][3])\n",
    "# print(li_2d[2,3])  → Not allowed\n",
    "print(arr_2d[2,3])"
   ]
  },
  {
   "cell_type": "code",
   "execution_count": 31,
   "id": "49203e01",
   "metadata": {},
   "outputs": [
    {
     "name": "stdout",
     "output_type": "stream",
     "text": [
      "[10, 11]\n",
      "[10 11]\n"
     ]
    }
   ],
   "source": [
    "print(li_2d[2][1:3])\n",
    "print(arr_2d[2,1:3])"
   ]
  },
  {
   "cell_type": "code",
   "execution_count": 32,
   "id": "77e6841f",
   "metadata": {},
   "outputs": [
    {
     "name": "stdout",
     "output_type": "stream",
     "text": [
      "[9, 10, 11, 12]\n"
     ]
    }
   ],
   "source": [
    "print(li_2d[0:3][2])"
   ]
  },
  {
   "cell_type": "code",
   "execution_count": 34,
   "id": "5cf44680",
   "metadata": {},
   "outputs": [
    {
     "name": "stdout",
     "output_type": "stream",
     "text": [
      "[[1, 2, 3, 4], [5, 6, 7, 8], [9, 10, 11, 12]]\n",
      "[9, 10, 11, 12]\n"
     ]
    }
   ],
   "source": [
    "## Let's see how did this happen!\n",
    "\n",
    "x = li_2d[0:3]\n",
    "print(x)\n",
    "y = x[2]\n",
    "print(y)"
   ]
  },
  {
   "cell_type": "code",
   "execution_count": 38,
   "id": "c7596f73",
   "metadata": {},
   "outputs": [
    {
     "name": "stdout",
     "output_type": "stream",
     "text": [
      "[ 2  6 10]\n"
     ]
    }
   ],
   "source": [
    "print(arr_2d[0:3,1])"
   ]
  },
  {
   "cell_type": "code",
   "execution_count": 40,
   "id": "4270ce2a",
   "metadata": {},
   "outputs": [
    {
     "ename": "IndexError",
     "evalue": "list index out of range",
     "output_type": "error",
     "traceback": [
      "\u001b[0;31m---------------------------------------------------------------------------\u001b[0m",
      "\u001b[0;31mIndexError\u001b[0m                                Traceback (most recent call last)",
      "\u001b[0;32m/var/folders/8x/lnjll14x2yl0_pfk5q7znhhw0000gn/T/ipykernel_38817/1120967548.py\u001b[0m in \u001b[0;36m<module>\u001b[0;34m\u001b[0m\n\u001b[0;32m----> 1\u001b[0;31m \u001b[0mprint\u001b[0m\u001b[0;34m(\u001b[0m\u001b[0mli_2d\u001b[0m\u001b[0;34m[\u001b[0m\u001b[0;36m0\u001b[0m\u001b[0;34m:\u001b[0m\u001b[0;36m3\u001b[0m\u001b[0;34m]\u001b[0m\u001b[0;34m[\u001b[0m\u001b[0;36m3\u001b[0m\u001b[0;34m]\u001b[0m\u001b[0;34m)\u001b[0m\u001b[0;34m\u001b[0m\u001b[0;34m\u001b[0m\u001b[0m\n\u001b[0m\u001b[1;32m      2\u001b[0m \u001b[0;34m\u001b[0m\u001b[0m\n\u001b[1;32m      3\u001b[0m \u001b[0;31m### it will show erro bcoz\u001b[0m\u001b[0;34m\u001b[0m\u001b[0;34m\u001b[0m\u001b[0m\n\u001b[1;32m      4\u001b[0m \u001b[0;31m### li_2d[0:3] → [[1, 2, 3, 4], [5, 6, 7, 8], [9, 10, 11, 12]]\u001b[0m\u001b[0;34m\u001b[0m\u001b[0;34m\u001b[0m\u001b[0m\n",
      "\u001b[0;31mIndexError\u001b[0m: list index out of range"
     ]
    }
   ],
   "source": [
    "print(li_2d[0:3][3])\n",
    "\n",
    "### it will show erro bcoz\n",
    "### li_2d[0:3] → [[1, 2, 3, 4], [5, 6, 7, 8], [9, 10, 11, 12]]"
   ]
  },
  {
   "cell_type": "code",
   "execution_count": 42,
   "id": "c11db788",
   "metadata": {},
   "outputs": [
    {
     "name": "stdout",
     "output_type": "stream",
     "text": [
      "[[10 11]\n",
      " [14 15]]\n"
     ]
    }
   ],
   "source": [
    "print(arr_2d[2:4, 1:3])\n",
    "# can't do this using normal 2d list"
   ]
  },
  {
   "cell_type": "code",
   "execution_count": null,
   "id": "bf060ca9",
   "metadata": {},
   "outputs": [],
   "source": []
  },
  {
   "cell_type": "code",
   "execution_count": null,
   "id": "832f29fa",
   "metadata": {},
   "outputs": [],
   "source": []
  }
 ],
 "metadata": {
  "kernelspec": {
   "display_name": "Python 3 (ipykernel)",
   "language": "python",
   "name": "python3"
  },
  "language_info": {
   "codemirror_mode": {
    "name": "ipython",
    "version": 3
   },
   "file_extension": ".py",
   "mimetype": "text/x-python",
   "name": "python",
   "nbconvert_exporter": "python",
   "pygments_lexer": "ipython3",
   "version": "3.9.7"
  }
 },
 "nbformat": 4,
 "nbformat_minor": 5
}
