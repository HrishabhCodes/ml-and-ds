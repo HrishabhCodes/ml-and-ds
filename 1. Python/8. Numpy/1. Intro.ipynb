{
 "cells": [
  {
   "cell_type": "markdown",
   "id": "60af072b",
   "metadata": {},
   "source": [
    "### Numpy → Numerical Python\n",
    "\n",
    "- Used for making multi-dimensional arrays\n",
    "- nd arrays (1D,2D,3D,4D,......,nD)"
   ]
  },
  {
   "cell_type": "markdown",
   "id": "70a2fca7",
   "metadata": {},
   "source": [
    "### Advantages of using Numpy:\n",
    "\n",
    "###### 1. Memory Requirement: Numpy arrays require less memory than normal Python lists"
   ]
  },
  {
   "cell_type": "code",
   "execution_count": 4,
   "id": "4fb45b88",
   "metadata": {},
   "outputs": [
    {
     "name": "stdout",
     "output_type": "stream",
     "text": [
      "[0, 1, 2, 3, 4, 5, 6, 7, 8, 9, 10, 11, 12, 13, 14, 15, 16, 17, 18, 19, 20, 21, 22, 23, 24, 25, 26, 27, 28, 29, 30, 31, 32, 33, 34, 35, 36, 37, 38, 39, 40, 41, 42, 43, 44, 45, 46, 47, 48, 49, 50, 51, 52, 53, 54, 55, 56, 57, 58, 59, 60, 61, 62, 63, 64, 65, 66, 67, 68, 69, 70, 71, 72, 73, 74, 75, 76, 77, 78, 79, 80, 81, 82, 83, 84, 85, 86, 87, 88, 89, 90, 91, 92, 93, 94, 95, 96, 97, 98, 99]\n",
      "[ 0  1  2  3  4  5  6  7  8  9 10 11 12 13 14 15 16 17 18 19 20 21 22 23\n",
      " 24 25 26 27 28 29 30 31 32 33 34 35 36 37 38 39 40 41 42 43 44 45 46 47\n",
      " 48 49 50 51 52 53 54 55 56 57 58 59 60 61 62 63 64 65 66 67 68 69 70 71\n",
      " 72 73 74 75 76 77 78 79 80 81 82 83 84 85 86 87 88 89 90 91 92 93 94 95\n",
      " 96 97 98 99]\n"
     ]
    }
   ],
   "source": [
    "import numpy as np\n",
    "\n",
    "li_arr = [i for i in range(0, 100)]\n",
    "np_arr = np.arange(100)\n",
    "\n",
    "print(li_arr)\n",
    "print(np_arr)"
   ]
  },
  {
   "cell_type": "code",
   "execution_count": 5,
   "id": "0aed0f4f",
   "metadata": {},
   "outputs": [
    {
     "name": "stdout",
     "output_type": "stream",
     "text": [
      "8\n",
      "800\n"
     ]
    }
   ],
   "source": [
    "## Size of one element in a numpy array\n",
    "print(np_arr.itemsize)\n",
    "\n",
    "## Size of 100 elements in a numpy array\n",
    "print(np_arr.itemsize * np_arr.size)"
   ]
  },
  {
   "cell_type": "code",
   "execution_count": 7,
   "id": "06881ed0",
   "metadata": {},
   "outputs": [
    {
     "name": "stdout",
     "output_type": "stream",
     "text": [
      "28\n",
      "2800\n"
     ]
    }
   ],
   "source": [
    "import sys\n",
    "\n",
    "## Size of one element in a list\n",
    "a = 10\n",
    "print(sys.getsizeof(a))\n",
    "\n",
    "## Size of 100 elements in a list\n",
    "print(sys.getsizeof(a) * len(li_arr))"
   ]
  },
  {
   "cell_type": "markdown",
   "id": "d02687ed",
   "metadata": {},
   "source": [
    "###### 2. Time Execution: Numpy arrays are much faster than the normal python lists"
   ]
  },
  {
   "cell_type": "code",
   "execution_count": 10,
   "id": "954fae57",
   "metadata": {},
   "outputs": [
    {
     "name": "stdout",
     "output_type": "stream",
     "text": [
      "List = 34.36613082885742 milliseconds\n",
      "Numpy = 0.7650852203369141 milliseconds\n"
     ]
    }
   ],
   "source": [
    "import time\n",
    "import numpy as np\n",
    "\n",
    "size = 100000\n",
    "\n",
    "## Add elements of array a and b\n",
    "\n",
    "def addition_using_list():\n",
    "    t1 = time.time()\n",
    "    a = range(size)\n",
    "    b = range(size)\n",
    "    c = [a[i] + b[i] for i in range(size)]\n",
    "    t2 = time.time()\n",
    "    return (t2 - t1)\n",
    "\n",
    "def addition_using_numpy():\n",
    "    t1 = time.time()\n",
    "    a = np.arange(size)\n",
    "    b = np.arange(size)\n",
    "    c = a + b\n",
    "    t2 = time.time()\n",
    "    return (t2 - t1)\n",
    "\n",
    "t_list = addition_using_list()\n",
    "t_numpy = addition_using_numpy()\n",
    "print('List =', t_list * 1000, \"milliseconds\") # milliseconds\n",
    "print('Numpy =', t_numpy * 1000, \"milliseconds\") # milliseconds"
   ]
  },
  {
   "cell_type": "markdown",
   "id": "258e6b10",
   "metadata": {},
   "source": [
    "3. Convinient"
   ]
  },
  {
   "cell_type": "code",
   "execution_count": 12,
   "id": "74cbc298",
   "metadata": {},
   "outputs": [
    {
     "data": {
      "text/plain": [
       "[4, 6, 8, 9]"
      ]
     },
     "execution_count": 12,
     "metadata": {},
     "output_type": "execute_result"
    }
   ],
   "source": [
    "a = [1,2,3,4]\n",
    "b = [3,4,5,5]\n",
    "c = [a[i] + b[i] for i in range(4)]\n",
    "c"
   ]
  },
  {
   "cell_type": "code",
   "execution_count": 15,
   "id": "b7b4732d",
   "metadata": {},
   "outputs": [
    {
     "data": {
      "text/plain": [
       "array([0, 2, 4, 6])"
      ]
     },
     "execution_count": 15,
     "metadata": {},
     "output_type": "execute_result"
    }
   ],
   "source": [
    "import numpy as np\n",
    "a = np.arange(4)\n",
    "b = np.arange(4)\n",
    "c = a + b # Easy to add elements of both the arrays\n",
    "c"
   ]
  },
  {
   "cell_type": "markdown",
   "id": "2dd86220",
   "metadata": {},
   "source": [
    "4. Functionality: Has lot of functions in optimized manner which are useful for us."
   ]
  }
 ],
 "metadata": {
  "kernelspec": {
   "display_name": "Python 3 (ipykernel)",
   "language": "python",
   "name": "python3"
  },
  "language_info": {
   "codemirror_mode": {
    "name": "ipython",
    "version": 3
   },
   "file_extension": ".py",
   "mimetype": "text/x-python",
   "name": "python",
   "nbconvert_exporter": "python",
   "pygments_lexer": "ipython3",
   "version": "3.9.7"
  }
 },
 "nbformat": 4,
 "nbformat_minor": 5
}
