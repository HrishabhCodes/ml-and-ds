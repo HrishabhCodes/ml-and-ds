{
 "cells": [
  {
   "cell_type": "code",
   "execution_count": 14,
   "id": "2a84a773",
   "metadata": {},
   "outputs": [
    {
     "name": "stdout",
     "output_type": "stream",
     "text": [
      "H r i s h a b h "
     ]
    }
   ],
   "source": [
    "x = \"Hrishabh\"\n",
    "for i in x:\n",
    "    print(i, end=\" \")"
   ]
  },
  {
   "cell_type": "markdown",
   "id": "1af4e3d5",
   "metadata": {},
   "source": [
    "### range(start, end, stride/step) → will print [start to stop-1]\n",
    "\n",
    "By default:\n",
    "start = 0,\n",
    "stride = 1"
   ]
  },
  {
   "cell_type": "code",
   "execution_count": 5,
   "id": "bfaa4dfe",
   "metadata": {},
   "outputs": [
    {
     "name": "stdout",
     "output_type": "stream",
     "text": [
      "4\n",
      "1 2 3 4 "
     ]
    }
   ],
   "source": [
    "n = int(input())\n",
    "x = range(1, n+1 , 1)\n",
    "\n",
    "for i in x:\n",
    "    print(i, end = \" \")"
   ]
  },
  {
   "cell_type": "code",
   "execution_count": 7,
   "id": "4a63ad05",
   "metadata": {},
   "outputs": [
    {
     "name": "stdout",
     "output_type": "stream",
     "text": [
      "0 1 2 3 4 5 "
     ]
    }
   ],
   "source": [
    "n = 5\n",
    "for i in range(n+1):\n",
    "    print(i, end = \" \")"
   ]
  },
  {
   "cell_type": "code",
   "execution_count": 9,
   "id": "c15c38af",
   "metadata": {},
   "outputs": [
    {
     "name": "stdout",
     "output_type": "stream",
     "text": [
      "5\n",
      "1 2 3 4 5 "
     ]
    }
   ],
   "source": [
    "# If we put 2 args then by default it takes start and end and sets the value of step = 1\n",
    "n = int(input())\n",
    "for i in range(1, n+1):\n",
    "    print(i, end = \" \")"
   ]
  },
  {
   "cell_type": "code",
   "execution_count": 13,
   "id": "3a38342e",
   "metadata": {},
   "outputs": [
    {
     "name": "stdout",
     "output_type": "stream",
     "text": [
      "5\n",
      "5 4 3 2 1 "
     ]
    }
   ],
   "source": [
    "n = int(input())\n",
    "for i in range(n, 0, -1):\n",
    "    print(i, end = \" \")"
   ]
  },
  {
   "cell_type": "code",
   "execution_count": 17,
   "id": "74084509",
   "metadata": {},
   "outputs": [
    {
     "name": "stdout",
     "output_type": "stream",
     "text": [
      "1\n",
      "10\n",
      "3 6 9 "
     ]
    }
   ],
   "source": [
    "# Multiple of 3, assume a<b\n",
    "a = int(input())\n",
    "b = int(input())\n",
    "\n",
    "for i in range(a, b+1, 1):\n",
    "    if i%3==0:\n",
    "        print(i, end= \" \")"
   ]
  },
  {
   "cell_type": "code",
   "execution_count": 19,
   "id": "524cf07e",
   "metadata": {},
   "outputs": [
    {
     "name": "stdout",
     "output_type": "stream",
     "text": [
      "11\n",
      "25\n",
      "12 15 18 21 24 "
     ]
    }
   ],
   "source": [
    "a = int(input())\n",
    "b = int(input())\n",
    "\n",
    "if a%3==0:\n",
    "    a = a\n",
    "elif a%3 == 1:\n",
    "    a = a+2\n",
    "else:\n",
    "    a += 1\n",
    "\n",
    "for i in range(a, b+1, 3):\n",
    "    print(i, end= \" \")"
   ]
  },
  {
   "cell_type": "code",
   "execution_count": 24,
   "id": "3c7d3b7f",
   "metadata": {},
   "outputs": [
    {
     "name": "stdout",
     "output_type": "stream",
     "text": [
      "5\n",
      "Prime!\n"
     ]
    }
   ],
   "source": [
    "#### isPrime = ?\n",
    "n = int(input())\n",
    "flag = True\n",
    "\n",
    "for i in range(2, n, 1):\n",
    "    if n%i==0:\n",
    "        print(\"Not Prime!\")\n",
    "        flag = False\n",
    "        break\n",
    "if flag:\n",
    "    print(\"Prime!\")"
   ]
  },
  {
   "cell_type": "code",
   "execution_count": 29,
   "id": "186d21d5",
   "metadata": {},
   "outputs": [
    {
     "name": "stdout",
     "output_type": "stream",
     "text": [
      "4\n",
      "   1\n",
      "  232\n",
      " 34543\n",
      "4567654\n"
     ]
    }
   ],
   "source": [
    "# Pattern\n",
    "#    1\n",
    "#   232\n",
    "#  34543\n",
    "# 4567654\n",
    "\n",
    "n = int(input())\n",
    "\n",
    "for i in range(1, n+1, 1):\n",
    "    for j in range(1, n-i+1, 1):\n",
    "        print(\" \", end = \"\")\n",
    "\n",
    "    for k in range(i, (2*i), 1):\n",
    "        print(k, end = \"\")\n",
    "    \n",
    "    for z in range((2*i)-2, i-1, -1):\n",
    "        print(z, end=\"\")\n",
    "    \n",
    "    print()"
   ]
  },
  {
   "cell_type": "code",
   "execution_count": 31,
   "id": "87084b0a",
   "metadata": {},
   "outputs": [
    {
     "name": "stdout",
     "output_type": "stream",
     "text": [
      "1\n",
      "2\n",
      "3\n",
      "4\n",
      "5\n",
      "6\n",
      "7\n",
      "8\n",
      "9\n",
      "At last!\n"
     ]
    }
   ],
   "source": [
    "i = 1\n",
    "while i<10:\n",
    "    print(i)\n",
    "    i+=1\n",
    "else:\n",
    "    print(\"At last!\")"
   ]
  },
  {
   "cell_type": "code",
   "execution_count": 33,
   "id": "df841703",
   "metadata": {},
   "outputs": [
    {
     "name": "stdout",
     "output_type": "stream",
     "text": [
      "1\n",
      "2\n",
      "3\n",
      "4\n",
      "5\n",
      "6\n",
      "7\n",
      "8\n",
      "9\n",
      "10\n",
      "At last!\n"
     ]
    }
   ],
   "source": [
    "for i in range(1, 11, 1):\n",
    "    print(i)\n",
    "else:\n",
    "    print(\"At last!\")"
   ]
  },
  {
   "cell_type": "markdown",
   "id": "051461d6",
   "metadata": {},
   "source": [
    "We'll only execute the else statement when the condition of the loop becomes false. If the loops breaks because of the break statement, else condition will not be executed."
   ]
  },
  {
   "cell_type": "code",
   "execution_count": 35,
   "id": "f806bd39",
   "metadata": {},
   "outputs": [
    {
     "name": "stdout",
     "output_type": "stream",
     "text": [
      "1\n",
      "2\n",
      "3\n",
      "4\n"
     ]
    }
   ],
   "source": [
    "for i in range(1, 11, 1):\n",
    "    if i==5:\n",
    "        break\n",
    "    print(i)\n",
    "else:\n",
    "    print(\"At last!\")"
   ]
  },
  {
   "cell_type": "code",
   "execution_count": 42,
   "id": "2009eeb7",
   "metadata": {},
   "outputs": [
    {
     "name": "stdout",
     "output_type": "stream",
     "text": [
      "4\n",
      "Not Prime!\n"
     ]
    }
   ],
   "source": [
    "#### isPrime = ? using else\n",
    "n = int(input())\n",
    "\n",
    "for i in range(2, n, 1):\n",
    "    if n%i==0:\n",
    "        print(\"Not Prime!\")\n",
    "        break\n",
    "else:\n",
    "    print(\"Prime!\")"
   ]
  },
  {
   "cell_type": "markdown",
   "id": "78deebd2",
   "metadata": {},
   "source": [
    "##### In java:\n",
    "\n",
    "if (i < 7) {\n",
    "    \n",
    "}\n",
    "\n",
    "- This is allowed\n",
    "\n",
    "##### In python:\n",
    "\n",
    "if i < 7:\n",
    "\n",
    "- Not allowed"
   ]
  },
  {
   "cell_type": "code",
   "execution_count": 48,
   "id": "4cf9b7ca",
   "metadata": {},
   "outputs": [
    {
     "name": "stdout",
     "output_type": "stream",
     "text": [
      "Hello\n",
      "hey\n"
     ]
    }
   ],
   "source": [
    "i = 1\n",
    "\n",
    "if i < 7:\n",
    "    pass\n",
    "\n",
    "print(\"hey\")"
   ]
  },
  {
   "cell_type": "code",
   "execution_count": 50,
   "id": "09418975",
   "metadata": {},
   "outputs": [
    {
     "name": "stdout",
     "output_type": "stream",
     "text": [
      "Hey\n"
     ]
    }
   ],
   "source": [
    "i = 1\n",
    "\n",
    "while i<10:\n",
    "    pass\n",
    "    i+=1 # required\n",
    "print(\"Hey\")"
   ]
  }
 ],
 "metadata": {
  "kernelspec": {
   "display_name": "Python 3 (ipykernel)",
   "language": "python",
   "name": "python3"
  },
  "language_info": {
   "codemirror_mode": {
    "name": "ipython",
    "version": 3
   },
   "file_extension": ".py",
   "mimetype": "text/x-python",
   "name": "python",
   "nbconvert_exporter": "python",
   "pygments_lexer": "ipython3",
   "version": "3.9.7"
  }
 },
 "nbformat": 4,
 "nbformat_minor": 5
}
