{
 "cells": [
  {
   "cell_type": "code",
   "execution_count": null,
   "id": "a74ecdbc",
   "metadata": {
    "scrolled": false
   },
   "outputs": [],
   "source": [
    "# b = int(input())\n",
    "# r = b%2\n",
    "# is_even = (r==0)\n",
    "# if is_even:\n",
    "#     print(\"b is even\")\n",
    "# else:\n",
    "#     print(\"b is odd\")"
   ]
  },
  {
   "cell_type": "code",
   "execution_count": null,
   "id": "f7b3885b",
   "metadata": {},
   "outputs": [],
   "source": [
    "# n = int(input())\n",
    "# i = 1\n",
    "# sum = 0\n",
    "\n",
    "# while i <= n:\n",
    "#     sum+=i\n",
    "#     i+=1\n",
    "# print(sum)"
   ]
  },
  {
   "cell_type": "code",
   "execution_count": null,
   "id": "e83dc25c",
   "metadata": {},
   "outputs": [],
   "source": [
    "# n = int(input())\n",
    "# i = 2\n",
    "# flag = False\n",
    "\n",
    "# while i<n:\n",
    "#     if n%i==0:\n",
    "#         flag = True\n",
    "#     i += 1\n",
    "# if flag:\n",
    "#     print(\"Not prime!\")\n",
    "# else:\n",
    "#     print(\"Prime!\")\n",
    "   "
   ]
  },
  {
   "cell_type": "code",
   "execution_count": 35,
   "id": "a0f048a9",
   "metadata": {},
   "outputs": [
    {
     "name": "stdout",
     "output_type": "stream",
     "text": [
      "3\n",
      "2\n",
      "3\n"
     ]
    }
   ],
   "source": [
    "n = int(input())\n",
    "i = 2\n",
    "\n",
    "while i<=n:\n",
    "    d = 2\n",
    "    flag = False\n",
    "    while d<i:\n",
    "        if i%d==0:\n",
    "            flag = True\n",
    "        d += 1\n",
    "    if not(flag):\n",
    "        print(i)\n",
    "    i += 1"
   ]
  }
 ],
 "metadata": {
  "kernelspec": {
   "display_name": "Python 3 (ipykernel)",
   "language": "python",
   "name": "python3"
  },
  "language_info": {
   "codemirror_mode": {
    "name": "ipython",
    "version": 3
   },
   "file_extension": ".py",
   "mimetype": "text/x-python",
   "name": "python",
   "nbconvert_exporter": "python",
   "pygments_lexer": "ipython3",
   "version": "3.9.7"
  }
 },
 "nbformat": 4,
 "nbformat_minor": 5
}
