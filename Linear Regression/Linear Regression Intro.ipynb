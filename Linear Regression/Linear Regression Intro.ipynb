{
 "cells": [
  {
   "cell_type": "markdown",
   "id": "8ce0e064",
   "metadata": {},
   "source": [
    "###### Assuming linear relation b/w X and Y"
   ]
  },
  {
   "cell_type": "code",
   "execution_count": 4,
   "id": "cd375f78",
   "metadata": {},
   "outputs": [],
   "source": [
    "import numpy as np"
   ]
  },
  {
   "cell_type": "code",
   "execution_count": 5,
   "id": "43e1ec90",
   "metadata": {},
   "outputs": [],
   "source": [
    "data = np.loadtxt(\"data.csv\", delimiter=\",\")"
   ]
  },
  {
   "cell_type": "code",
   "execution_count": 6,
   "id": "55399a9a",
   "metadata": {},
   "outputs": [
    {
     "data": {
      "text/plain": [
       "(100, 2)"
      ]
     },
     "execution_count": 6,
     "metadata": {},
     "output_type": "execute_result"
    }
   ],
   "source": [
    "s = data.shape\n",
    "s"
   ]
  },
  {
   "cell_type": "code",
   "execution_count": 7,
   "id": "0418346a",
   "metadata": {},
   "outputs": [],
   "source": [
    "x = data[:, 0].reshape(-1,1)\n",
    "y = data[:, 1].reshape(-1,1)"
   ]
  },
  {
   "cell_type": "code",
   "execution_count": 8,
   "id": "7049d0a3",
   "metadata": {},
   "outputs": [
    {
     "data": {
      "text/plain": [
       "(100, 1)"
      ]
     },
     "execution_count": 8,
     "metadata": {},
     "output_type": "execute_result"
    }
   ],
   "source": [
    "x.shape"
   ]
  },
  {
   "cell_type": "code",
   "execution_count": 9,
   "id": "9031b09b",
   "metadata": {},
   "outputs": [],
   "source": [
    "from sklearn import model_selection"
   ]
  },
  {
   "cell_type": "code",
   "execution_count": 10,
   "id": "0236a988",
   "metadata": {},
   "outputs": [],
   "source": [
    "X_train, X_test, Y_train, Y_test = model_selection.train_test_split(x, y)"
   ]
  },
  {
   "cell_type": "code",
   "execution_count": 11,
   "id": "377d9d51",
   "metadata": {},
   "outputs": [
    {
     "name": "stdout",
     "output_type": "stream",
     "text": [
      "[[51.0887199 ]\n",
      " [59.37082201]\n",
      " [35.67809389]\n",
      " [40.16689901]\n",
      " [46.68222865]\n",
      " [36.43600951]\n",
      " [68.31936082]\n",
      " [46.73761941]\n",
      " [50.55676015]\n",
      " [33.64470601]\n",
      " [61.53035803]\n",
      " [48.95588857]\n",
      " [56.9012147 ]\n",
      " [38.00548801]\n",
      " [41.57564262]\n",
      " [32.50234527]\n",
      " [64.70713867]\n",
      " [68.76573427]\n",
      " [37.67565486]\n",
      " [46.2309665 ]\n",
      " [52.55001444]\n",
      " [56.13038882]\n",
      " [38.11982403]\n",
      " [56.86890066]\n",
      " [54.28232871]\n",
      " [70.34607562]\n",
      " [41.18201611]\n",
      " [56.72720806]\n",
      " [45.44053073]\n",
      " [42.43647694]\n",
      " [58.16454011]\n",
      " [60.29732685]\n",
      " [53.57507753]\n",
      " [55.80573336]\n",
      " [50.28283635]\n",
      " [44.49285588]\n",
      " [54.35163488]\n",
      " [32.66904376]\n",
      " [47.48120861]\n",
      " [44.1640495 ]\n",
      " [43.10782022]\n",
      " [62.49469743]\n",
      " [57.36205213]\n",
      " [38.81681754]\n",
      " [49.20388754]\n",
      " [41.10268519]\n",
      " [44.50253806]\n",
      " [34.3331247 ]\n",
      " [43.31828263]\n",
      " [63.61556125]\n",
      " [52.22399609]\n",
      " [52.21179669]\n",
      " [45.61864377]\n",
      " [61.89622268]\n",
      " [65.41605175]\n",
      " [53.42680403]\n",
      " [57.31000344]\n",
      " [43.87061265]\n",
      " [39.29956669]\n",
      " [41.37772653]\n",
      " [47.47563963]\n",
      " [50.18638949]\n",
      " [62.99748075]\n",
      " [49.23976534]\n",
      " [35.56783005]\n",
      " [52.37844622]\n",
      " [32.94047994]\n",
      " [55.14218841]\n",
      " [59.81320787]\n",
      " [53.69163957]\n",
      " [50.13548549]\n",
      " [38.95476907]\n",
      " [40.59953838]\n",
      " [41.72067636]\n",
      " [48.14985889]] [[ 69.58889785]\n",
      " [ 74.76556403]\n",
      " [ 52.72173496]\n",
      " [ 54.0840548 ]\n",
      " [ 72.24725107]\n",
      " [ 62.12457082]\n",
      " [ 97.91982104]\n",
      " [ 79.05240617]\n",
      " [ 83.43207142]\n",
      " [ 69.89968164]\n",
      " [ 62.5623823 ]\n",
      " [ 60.72360244]\n",
      " [ 80.20752314]\n",
      " [ 61.36690454]\n",
      " [ 51.39174408]\n",
      " [ 31.70700585]\n",
      " [ 93.57611869]\n",
      " [114.85387123]\n",
      " [ 60.81024665]\n",
      " [ 90.12357207]\n",
      " [ 71.30087989]\n",
      " [ 85.49806778]\n",
      " [ 80.16627545]\n",
      " [ 83.14274979]\n",
      " [ 79.12064627]\n",
      " [104.25710159]\n",
      " [ 61.68403752]\n",
      " [ 81.43619216]\n",
      " [ 66.58814441]\n",
      " [ 76.61734128]\n",
      " [ 96.76956643]\n",
      " [ 97.37989686]\n",
      " [ 87.99445276]\n",
      " [ 79.55043668]\n",
      " [ 69.51050331]\n",
      " [ 86.64202032]\n",
      " [ 82.47884676]\n",
      " [ 45.57058882]\n",
      " [ 57.25181946]\n",
      " [ 62.00892325]\n",
      " [ 57.81251298]\n",
      " [ 86.52053844]\n",
      " [ 95.53668685]\n",
      " [ 56.87721319]\n",
      " [ 84.74269781]\n",
      " [ 59.35885025]\n",
      " [ 65.10171157]\n",
      " [ 55.72348926]\n",
      " [ 58.56982472]\n",
      " [ 95.22936602]\n",
      " [ 63.35879032]\n",
      " [ 79.64197305]\n",
      " [ 48.84715332]\n",
      " [ 77.76848242]\n",
      " [118.5912173 ]\n",
      " [ 68.77759598]\n",
      " [ 95.45505292]\n",
      " [ 61.4247098 ]\n",
      " [ 59.17148932]\n",
      " [ 79.10282968]\n",
      " [ 71.54663223]\n",
      " [ 69.84760416]\n",
      " [115.2441528 ]\n",
      " [ 72.11183247]\n",
      " [ 41.4128853 ]\n",
      " [ 86.09829121]\n",
      " [ 67.17065577]\n",
      " [ 78.21151827]\n",
      " [ 87.23092513]\n",
      " [ 85.66820315]\n",
      " [ 59.10883927]\n",
      " [ 44.84712424]\n",
      " [ 65.56230126]\n",
      " [ 65.28088692]\n",
      " [ 66.22495789]]\n"
     ]
    }
   ],
   "source": [
    "from sklearn.linear_model import LinearRegression\n",
    "alg1 = LinearRegression()\n",
    "alg1.fit(X_train, Y_train)\n",
    "print(X_train, Y_train)"
   ]
  },
  {
   "cell_type": "code",
   "execution_count": null,
   "id": "5e2e5659",
   "metadata": {},
   "outputs": [],
   "source": []
  },
  {
   "cell_type": "code",
   "execution_count": 16,
   "id": "03c2f83f",
   "metadata": {},
   "outputs": [
    {
     "data": {
      "text/plain": [
       "array([[1.38146329]])"
      ]
     },
     "execution_count": 16,
     "metadata": {},
     "output_type": "execute_result"
    }
   ],
   "source": [
    "alg1.coef_"
   ]
  },
  {
   "cell_type": "code",
   "execution_count": 17,
   "id": "4329441f",
   "metadata": {},
   "outputs": [
    {
     "data": {
      "text/plain": [
       "array([4.13444804])"
      ]
     },
     "execution_count": 17,
     "metadata": {},
     "output_type": "execute_result"
    }
   ],
   "source": [
    "alg1.intercept_"
   ]
  },
  {
   "cell_type": "code",
   "execution_count": 19,
   "id": "9cff4339",
   "metadata": {},
   "outputs": [],
   "source": [
    "import matplotlib.pyplot as plt"
   ]
  },
  {
   "cell_type": "code",
   "execution_count": 27,
   "id": "31a24f22",
   "metadata": {},
   "outputs": [
    {
     "data": {
      "image/png": "[encoded data removed]",
      "text/plain": [
       "<Figure size 432x288 with 1 Axes>"
      ]
     },
     "metadata": {
      "needs_background": "light"
     },
     "output_type": "display_data"
    }
   ],
   "source": [
    "m = alg1.coef_[0]\n",
    "c = alg1.intercept_\n",
    "\n",
    "x_line = np.arange(30, 70, 0.1)\n",
    "y_line = (m * x_line) + c\n",
    "plt.plot(x_line, y_line, \"r\")\n",
    "train_1d = X_train.reshape(75)\n",
    "plt.scatter(X_train, Y_train)\n",
    "plt.show()"
   ]
  },
  {
   "cell_type": "code",
   "execution_count": 29,
   "id": "e877be5d",
   "metadata": {},
   "outputs": [
    {
     "data": {
      "image/png": "[encoded data removed]",
      "text/plain": [
       "<Figure size 432x288 with 1 Axes>"
      ]
     },
     "metadata": {
      "needs_background": "light"
     },
     "output_type": "display_data"
    }
   ],
   "source": [
    "m = alg1.coef_[0]\n",
    "c = alg1.intercept_\n",
    "\n",
    "x_line = np.arange(20, 90, 0.1)\n",
    "y_line = (m * x_line) + c\n",
    "plt.plot(x_line, y_line, \"r\")\n",
    "train_1d = X_test.reshape(25)\n",
    "plt.scatter(X_test, Y_test)\n",
    "plt.show()"
   ]
  },
  {
   "cell_type": "code",
   "execution_count": 32,
   "id": "04215cc0",
   "metadata": {},
   "outputs": [
    {
     "data": {
      "text/plain": [
       "(0.5302071704868183, 0.6179884004017946)"
      ]
     },
     "execution_count": 32,
     "metadata": {},
     "output_type": "execute_result"
    }
   ],
   "source": [
    "score_test = alg1.score(X_test, Y_test)\n",
    "score_train = alg1.score(X_train, Y_train)\n",
    "\n",
    "score_test, score_train"
   ]
  },
  {
   "cell_type": "code",
   "execution_count": null,
   "id": "e7ed61f0",
   "metadata": {},
   "outputs": [],
   "source": []
  },
  {
   "cell_type": "code",
   "execution_count": null,
   "id": "0a136fd2",
   "metadata": {},
   "outputs": [],
   "source": []
  },
  {
   "cell_type": "code",
   "execution_count": null,
   "id": "ba6f7332",
   "metadata": {},
   "outputs": [],
   "source": []
  },
  {
   "cell_type": "code",
   "execution_count": null,
   "id": "6fdca120",
   "metadata": {},
   "outputs": [],
   "source": []
  },
  {
   "cell_type": "code",
   "execution_count": null,
   "id": "a4576240",
   "metadata": {},
   "outputs": [],
   "source": []
  },
  {
   "cell_type": "code",
   "execution_count": null,
   "id": "991fc8f1",
   "metadata": {},
   "outputs": [],
   "source": []
  },
  {
   "cell_type": "code",
   "execution_count": null,
   "id": "bc6b0920",
   "metadata": {},
   "outputs": [],
   "source": []
  },
  {
   "cell_type": "code",
   "execution_count": null,
   "id": "6049609f",
   "metadata": {},
   "outputs": [],
   "source": []
  },
  {
   "cell_type": "code",
   "execution_count": null,
   "id": "1dbd3d06",
   "metadata": {},
   "outputs": [],
   "source": []
  }
 ],
 "metadata": {
  "kernelspec": {
   "display_name": "Python 3 (ipykernel)",
   "language": "python",
   "name": "python3"
  },
  "language_info": {
   "codemirror_mode": {
    "name": "ipython",
    "version": 3
   },
   "file_extension": ".py",
   "mimetype": "text/x-python",
   "name": "python",
   "nbconvert_exporter": "python",
   "pygments_lexer": "ipython3",
   "version": "3.9.7"
  },
  "vscode": {
   "interpreter": {
    "hash": "aee8b7b246df8f9039afb4144a1f6fd8d2ca17a180786b69acc140d282b71a49"
   }
  }
 },
 "nbformat": 4,
 "nbformat_minor": 5
}
